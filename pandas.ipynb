{
 "cells": [
  {
   "cell_type": "code",
   "execution_count": 15,
   "id": "e9ac30af-0a9a-4204-bdf0-e9b149ea17b2",
   "metadata": {},
   "outputs": [],
   "source": [
    "import pandas as pd"
   ]
  },
  {
   "cell_type": "code",
   "execution_count": 70,
   "id": "1292fabb-0456-4e07-985d-c7d24dab8757",
   "metadata": {},
   "outputs": [],
   "source": [
    "import numpy as np"
   ]
  },
  {
   "cell_type": "code",
   "execution_count": 9,
   "id": "96fa421a-9d7c-4e6c-934b-11ed98673840",
   "metadata": {},
   "outputs": [
    {
     "name": "stdout",
     "output_type": "stream",
     "text": [
      "2.2.2\n"
     ]
    }
   ],
   "source": [
    "print(pd.__version__)\n"
   ]
  },
  {
   "cell_type": "code",
   "execution_count": 11,
   "id": "d9940c14-0b74-46a4-a09b-167e62ee05a0",
   "metadata": {},
   "outputs": [
    {
     "name": "stdout",
     "output_type": "stream",
     "text": [
      "2.2.2\n"
     ]
    }
   ],
   "source": [
    "import pandas as pd\n",
    "print(pd.__version__)\n"
   ]
  },
  {
   "cell_type": "code",
   "execution_count": 53,
   "id": "857ffe0e-87a7-476f-9bcf-df5577af8837",
   "metadata": {},
   "outputs": [
    {
     "name": "stdout",
     "output_type": "stream",
     "text": [
      "0    1\n",
      "1    2\n",
      "2    3\n",
      "3    4\n",
      "4    5\n",
      "dtype: int64\n"
     ]
    }
   ],
   "source": [
    "import pandas as pd\n",
    "x= [1,2,3,4,5]\n",
    "s = pd.Series(x)\n",
    "print(s)\n",
    "          "
   ]
  },
  {
   "cell_type": "code",
   "execution_count": 59,
   "id": "82edc692-ac79-4f98-b236-7605ccc5cd1a",
   "metadata": {},
   "outputs": [
    {
     "data": {
      "text/plain": [
       "a    1\n",
       "b    2\n",
       "c    3\n",
       "d    4\n",
       "e    5\n",
       "dtype: int64"
      ]
     },
     "execution_count": 59,
     "metadata": {},
     "output_type": "execute_result"
    }
   ],
   "source": [
    "pd.Series(x,['a','b','c','d','e'])"
   ]
  },
  {
   "cell_type": "code",
   "execution_count": 49,
   "id": "daed4f35-cd00-4c4e-8b14-201833863f5c",
   "metadata": {},
   "outputs": [
    {
     "data": {
      "text/plain": [
       "I      shamliya\n",
       "II         feba\n",
       "III      hafrin\n",
       "IV         hana\n",
       "V          riya\n",
       "IV        rinsi\n",
       "dtype: object"
      ]
     },
     "execution_count": 49,
     "metadata": {},
     "output_type": "execute_result"
    }
   ],
   "source": [
    "pd.Series(x,['I','II','III','IV','V','IV'])"
   ]
  },
  {
   "cell_type": "code",
   "execution_count": 31,
   "id": "be91e9bf-1e23-4104-a200-9b32914b73c3",
   "metadata": {},
   "outputs": [
    {
     "data": {
      "text/plain": [
       "a    shamliya\n",
       "b        feba\n",
       "c      hafrin\n",
       "d        hana\n",
       "e        riya\n",
       "f       rinsi\n",
       "dtype: object"
      ]
     },
     "execution_count": 31,
     "metadata": {},
     "output_type": "execute_result"
    }
   ],
   "source": [
    "labels = ['a','b','c','d','e','f']\n",
    "x = ['shamliya','feba','hafrin','hana','riya','rinsi']\n",
    "pd . Series(x,labels)"
   ]
  },
  {
   "cell_type": "code",
   "execution_count": 61,
   "id": "4f1ef7de-22ce-4870-bfb5-3621b1b2b774",
   "metadata": {},
   "outputs": [
    {
     "name": "stdout",
     "output_type": "stream",
     "text": [
      "0    1\n",
      "1    2\n",
      "2    3\n",
      "3    4\n",
      "4    5\n",
      "dtype: int64\n"
     ]
    }
   ],
   "source": [
    "y= [1,2,3,4,5]\n",
    "p = pd.Series(x)\n",
    "print(p)"
   ]
  },
  {
   "cell_type": "code",
   "execution_count": 55,
   "id": "a370c195-b2ce-457a-b942-649d0991a63c",
   "metadata": {},
   "outputs": [
    {
     "data": {
      "text/plain": [
       "0    1\n",
       "1    2\n",
       "2    3\n",
       "3    4\n",
       "4    5\n",
       "5    X\n",
       "dtype: object"
      ]
     },
     "execution_count": 55,
     "metadata": {},
     "output_type": "execute_result"
    }
   ],
   "source": [
    "pd.Series(['1','2','3','4','5','X'])"
   ]
  },
  {
   "cell_type": "markdown",
   "id": "899bfce3-4f0f-49bf-b2cf-266ab800e168",
   "metadata": {},
   "source": [
    "# from numpy arrays"
   ]
  },
  {
   "cell_type": "code",
   "execution_count": 74,
   "id": "fd706ad4-1ee9-4a6b-afb9-74ce073bb59d",
   "metadata": {},
   "outputs": [
    {
     "data": {
      "text/plain": [
       "array([ 1,  6, 11, 16, 21, 26, 31, 36])"
      ]
     },
     "execution_count": 74,
     "metadata": {},
     "output_type": "execute_result"
    }
   ],
   "source": [
    "o = np.arange(1,40,5)\n",
    "o"
   ]
  },
  {
   "cell_type": "code",
   "execution_count": 80,
   "id": "fcf8eca2-ef3e-419f-8487-679a349197ad",
   "metadata": {},
   "outputs": [
    {
     "data": {
      "text/plain": [
       "0     1\n",
       "1     6\n",
       "2    11\n",
       "3    16\n",
       "4    21\n",
       "5    26\n",
       "6    31\n",
       "7    36\n",
       "dtype: int32"
      ]
     },
     "execution_count": 80,
     "metadata": {},
     "output_type": "execute_result"
    }
   ],
   "source": [
    "pd.Series(o)"
   ]
  },
  {
   "cell_type": "code",
   "execution_count": 100,
   "id": "a08a4d46-396c-44b3-aeb7-4c0ff805d1eb",
   "metadata": {},
   "outputs": [
    {
     "data": {
      "text/plain": [
       "2      1\n",
       "4      6\n",
       "6     11\n",
       "8     16\n",
       "10    21\n",
       "12    26\n",
       "14    31\n",
       "16    36\n",
       "dtype: int32"
      ]
     },
     "execution_count": 100,
     "metadata": {},
     "output_type": "execute_result"
    }
   ],
   "source": [
    "pd.Series(o,index=np.arange(2,18,2))"
   ]
  },
  {
   "cell_type": "markdown",
   "id": "b20b0a56-898f-4d66-8677-2855623076f9",
   "metadata": {},
   "source": [
    "# from dictionary"
   ]
  },
  {
   "cell_type": "code",
   "execution_count": 103,
   "id": "a3ad1801-0ee8-4641-a722-b335bc0a0282",
   "metadata": {},
   "outputs": [
    {
     "data": {
      "text/plain": [
       "a    20\n",
       "b    30\n",
       "c    40\n",
       "d    50\n",
       "dtype: int64"
      ]
     },
     "execution_count": 103,
     "metadata": {},
     "output_type": "execute_result"
    }
   ],
   "source": [
    "dic = {\"a\":20,\"b\":30,\"c\":40,\"d\":50}\n",
    "pd.Series(dic)"
   ]
  },
  {
   "cell_type": "code",
   "execution_count": 109,
   "id": "49489e50-e5c0-42c5-888c-f67257b5b9cf",
   "metadata": {},
   "outputs": [
    {
     "data": {
      "text/plain": [
       "b    30.0\n",
       "d    50.0\n",
       "a    20.0\n",
       "c    40.0\n",
       "e     NaN\n",
       "dtype: float64"
      ]
     },
     "execution_count": 109,
     "metadata": {},
     "output_type": "execute_result"
    }
   ],
   "source": [
    "pd.Series(dic,[\"b\",\"d\",\"a\",\"c\",\"e\"])"
   ]
  },
  {
   "cell_type": "code",
   "execution_count": 113,
   "id": "8ca4d557-3eef-4abd-a887-8ec122c91c85",
   "metadata": {},
   "outputs": [
    {
     "data": {
      "text/plain": [
       "float"
      ]
     },
     "execution_count": 113,
     "metadata": {},
     "output_type": "execute_result"
    }
   ],
   "source": [
    "type (np.NaN)"
   ]
  },
  {
   "cell_type": "markdown",
   "id": "3498789a-9b77-46be-89de-8f9a3275a9c6",
   "metadata": {},
   "source": [
    "# scalar values"
   ]
  },
  {
   "cell_type": "code",
   "execution_count": 116,
   "id": "faa78241-451b-494d-a04e-2a9b93b967cd",
   "metadata": {},
   "outputs": [
    {
     "data": {
      "text/plain": [
       "120"
      ]
     },
     "execution_count": 116,
     "metadata": {},
     "output_type": "execute_result"
    }
   ],
   "source": [
    "120"
   ]
  },
  {
   "cell_type": "code",
   "execution_count": 118,
   "id": "bc63b033-5c58-4b59-ac9b-916338ef72f9",
   "metadata": {},
   "outputs": [
    {
     "data": {
      "text/plain": [
       "128"
      ]
     },
     "execution_count": 118,
     "metadata": {},
     "output_type": "execute_result"
    }
   ],
   "source": [
    "2**7 "
   ]
  },
  {
   "cell_type": "code",
   "execution_count": null,
   "id": "e89a9323-3de4-437c-9ebd-bccf53b68dd9",
   "metadata": {},
   "outputs": [],
   "source": []
  },
  {
   "cell_type": "code",
   "execution_count": null,
   "id": "b18c2dfb-0293-49bc-bc97-86e0fc1a4cf0",
   "metadata": {},
   "outputs": [],
   "source": []
  }
 ],
 "metadata": {
  "kernelspec": {
   "display_name": "Python 3 (ipykernel)",
   "language": "python",
   "name": "python3"
  },
  "language_info": {
   "codemirror_mode": {
    "name": "ipython",
    "version": 3
   },
   "file_extension": ".py",
   "mimetype": "text/x-python",
   "name": "python",
   "nbconvert_exporter": "python",
   "pygments_lexer": "ipython3",
   "version": "3.12.4"
  }
 },
 "nbformat": 4,
 "nbformat_minor": 5
}
