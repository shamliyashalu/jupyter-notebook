{
 "cells": [
  {
   "cell_type": "code",
   "execution_count": null,
   "id": "5f104144-0980-4a37-ab3b-fa33f0c062a4",
   "metadata": {},
   "outputs": [],
   "source": [
    "# writa a program to take input from user continuosly and add it to a list\n",
    "# if the user enters a number stop and print the list\n",
    "l=[]\n",
    "print(\"enter characters...enter a number to stop input:\")\n",
    "while true:\n",
    "    c=input()\n",
    "    if c.isdigit"
   ]
  },
  {
   "cell_type": "code",
   "execution_count": null,
   "id": "37f24e20-fdce-434f-a430-40ea86cf0c53",
   "metadata": {},
   "outputs": [],
   "source": [
    "# use of function\n",
    "# reuse of code\n",
    "# proper structuring of code\n",
    "# independent process is seperated\n",
    "\n",
    "#function definition\n",
    "#function cell\n",
    "\n",
    "#def\n",
    " def display():\n",
    "  print(\"2inside function\")\n",
    "  \n",
    "print(\"1before function\")  \n",
    "display()\n",
    "print(\"3after function\")  \n",
    "display()\n",
    "\n",
    "#1,2,3,2\n",
    "\n"
   ]
  },
  {
   "cell_type": "code",
   "execution_count": 10,
   "id": "a0dd0e22-f524-4cbd-87ca-75032211c147",
   "metadata": {},
   "outputs": [
    {
     "name": "stdin",
     "output_type": "stream",
     "text": [
      "enter first number 45\n",
      "enter second number 56\n"
     ]
    },
    {
     "name": "stdout",
     "output_type": "stream",
     "text": [
      "101\n"
     ]
    }
   ],
   "source": [
    "#function to add two numbers\n",
    "\n",
    "\n",
    "def add_two_numbers():\n",
    "    n1=int(input(\"enter first number\"))\n",
    "    n2=int(input(\"enter second number\"))\n",
    "    sum = n1 + n2\n",
    "    print(sum)\n",
    "\n",
    "add_two_numbers()"
   ]
  },
  {
   "cell_type": "code",
   "execution_count": null,
   "id": "9d3d4ac1-1227-4c64-a046-85e12a082d9d",
   "metadata": {},
   "outputs": [],
   "source": [
    "def add_two_numbers():\n",
    "    sum=n1 + n2 # local scope\n",
    "    return s\n",
    "    \n",
    "n1=int(input(\"enter first number\")) # global scope\n",
    "n2=int(input(\"enter second number\"))\n",
    "total = add()\n",
    "    print(\" the sum is : \",total)\n",
    "\n"
   ]
  },
  {
   "cell_type": "code",
   "execution_count": null,
   "id": "f3404b02-67da-4078-8674-80f3c6c0c29e",
   "metadata": {},
   "outputs": [],
   "source": [
    "def add_two_numbers():\n",
    "    sum=n1 + n2 # local scope\n",
    "    return s\n",
    "    \n",
    "n1=int(input(\"enter first number\")) # global scope\n",
    "n2=int(input(\"enter second number\"))\n",
    "sum = n1 + n2\n",
    "    print(\" the sum is : \",{s})\n",
    "\n"
   ]
  },
  {
   "cell_type": "code",
   "execution_count": null,
   "id": "d5f7f074-cd21-492b-95f3-dd3edaca3c38",
   "metadata": {},
   "outputs": [],
   "source": [
    "# arguments\n",
    "def add(a,b): #parameters\n",
    "    return a+b\n",
    "\n",
    "print(add())#passing of arguments\n",
    "# the number of parameters and arguments should be same"
   ]
  },
  {
   "cell_type": "code",
   "execution_count": null,
   "id": "201f13d4-7f75-448b-9cfd-c003757c5742",
   "metadata": {},
   "outputs": [],
   "source": [
    "def add(a,b): #parameters\n",
    "    return a+b\n",
    "\n",
    "print(add())\n",
    "print(\"average\",add(100,150)/2"
   ]
  },
  {
   "cell_type": "code",
   "execution_count": null,
   "id": "d3830e73-2bce-4062-8589-82b5d12fa4bb",
   "metadata": {},
   "outputs": [],
   "source": [
    "def add(a,b,c=5): #c is the default argument\n",
    "    return a+b+c\n",
    "\n",
    "print(add(1,3))\n",
    "print(add(2,3,7))# if the value of c is given then the given value will be taken"
   ]
  },
  {
   "cell_type": "code",
   "execution_count": null,
   "id": "3227794a-b2a7-4061-814b-9c0a7948a520",
   "metadata": {},
   "outputs": [],
   "source": [
    "def add (a,b,*c): # variable length argument\n",
    "    pass\n",
    "\n",
    "print(add(3,4))\n",
    "print(34,56,3,4)) #here c is a collection of numbers and form as a touple"
   ]
  },
  {
   "cell_type": "code",
   "execution_count": null,
   "id": "8696b77e-873e-48f4-9e63-9c89fbcccdd9",
   "metadata": {},
   "outputs": [],
   "source": [
    "def add (a,b,*c): # variable length argument\n",
    "    return a+b+sum(c)# because c is a collection of values \n",
    "\n",
    "print(add(3,4))\n",
    "print(34,56,3,4)) "
   ]
  }
 ],
 "metadata": {
  "kernelspec": {
   "display_name": "Python 3 (ipykernel)",
   "language": "python",
   "name": "python3"
  },
  "language_info": {
   "codemirror_mode": {
    "name": "ipython",
    "version": 3
   },
   "file_extension": ".py",
   "mimetype": "text/x-python",
   "name": "python",
   "nbconvert_exporter": "python",
   "pygments_lexer": "ipython3",
   "version": "3.12.4"
  }
 },
 "nbformat": 4,
 "nbformat_minor": 5
}
