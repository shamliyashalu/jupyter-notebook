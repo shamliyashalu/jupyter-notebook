{
 "cells": [
  {
   "cell_type": "code",
   "execution_count": 3,
   "id": "d0fb83be-9cc5-4f59-b451-2c42a679193b",
   "metadata": {},
   "outputs": [],
   "source": [
    "import numpy as np\n",
    "import pandas as pd\n",
    "from matplotlib import pyplot as plt"
   ]
  },
  {
   "cell_type": "code",
   "execution_count": 5,
   "id": "f0170d6a-4c12-4642-aad5-75f24f014125",
   "metadata": {},
   "outputs": [
    {
     "ename": "SyntaxError",
     "evalue": "invalid syntax (3145864218.py, line 25)",
     "output_type": "error",
     "traceback": [
      "\u001b[1;36m  Cell \u001b[1;32mIn[5], line 25\u001b[1;36m\u001b[0m\n\u001b[1;33m    print(\"Diagonal Matrix:\\n\", diagonal_matrix)a\u001b[0m\n\u001b[1;37m                                                ^\u001b[0m\n\u001b[1;31mSyntaxError\u001b[0m\u001b[1;31m:\u001b[0m invalid syntax\n"
     ]
    }
   ],
   "source": [
    "# Square matrix (2x2)\n",
    "square_matrix = np.array([[1, 2], [3, 4]])\n",
    "\n",
    "# Rectangular matrix (2x3)\n",
    "rect_matrix = np.array([[1, 2, 3], [4, 5, 6]])\n",
    "\n",
    "# Diagonal matrix\n",
    "diagonal_matrix = np.diag([1, 2, 3])\n",
    "\n",
    "# Identity matrix (3x3)\n",
    "identity_matrix = np.eye(3)\n",
    "\n",
    "# Zero matrix (2x2)\n",
    "zero_matrix = np.zeros((2, 2))\n",
    "\n",
    "# Visualization of a matrix using Matplotlib\n",
    "plt.imshow(square_matrix, cmap='viridis', interpolation='none')\n",
    "plt.colorbar()\n",
    "plt.title(\"Square Matrix Visualization\")\n",
    "plt.show()\n",
    "\n",
    "# Printing the matrices\n",
    "print(\"Square Matrix:\\n\", square_matrix)\n",
    "print(\"Rectangular Matrix:\\n\", rect_matrix)\n",
    "print(\"Diagonal Matrix:\\n\", diagonal_matrix)a\n",
    "print(\"Identity Matrix:\\n\", identity_matrix)\n",
    "print(\"Zero Matrix:\\n\", zero_matrix)\n"
   ]
  },
  {
   "cell_type": "code",
   "execution_count": 15,
   "id": "5f1e3295-0c02-4311-9969-a3def3dda6ec",
   "metadata": {},
   "outputs": [
    {
     "name": "stdout",
     "output_type": "stream",
     "text": [
      "[[1 2]\n",
      " [3 4]]\n"
     ]
    }
   ],
   "source": [
    "a = np.array([[1,2],[3,4]])\n",
    "print(a)"
   ]
  },
  {
   "cell_type": "code",
   "execution_count": 13,
   "id": "aff6cfd3-3fba-4a1f-b9ee-14e2a22035d2",
   "metadata": {},
   "outputs": [
    {
     "data": {
      "text/plain": [
       "array([[ 2,  4,  6],\n",
       "       [ 8, 10, 12]])"
      ]
     },
     "execution_count": 13,
     "metadata": {},
     "output_type": "execute_result"
    }
   ],
   "source": [
    "b = np.array([[2,4,6],[8,10,12]])\n",
    "b"
   ]
  },
  {
   "cell_type": "code",
   "execution_count": 17,
   "id": "4e8d0e7d-0d12-4f60-bbdd-f5aab1d46cc5",
   "metadata": {},
   "outputs": [
    {
     "data": {
      "text/plain": [
       "array([[3, 0, 0],\n",
       "       [0, 6, 0],\n",
       "       [0, 0, 9]])"
      ]
     },
     "execution_count": 17,
     "metadata": {},
     "output_type": "execute_result"
    }
   ],
   "source": [
    "c = np.diag([3,6,9])\n",
    "c"
   ]
  },
  {
   "cell_type": "code",
   "execution_count": 45,
   "id": "e0b2a7b4-0a2e-43e8-937c-b5f980a438bf",
   "metadata": {},
   "outputs": [
    {
     "data": {
      "text/plain": [
       "array([[1, 0, 0, 0, 0],\n",
       "       [0, 1, 0, 0, 0],\n",
       "       [0, 0, 1, 0, 0],\n",
       "       [0, 0, 0, 1, 0],\n",
       "       [0, 0, 0, 0, 1]])"
      ]
     },
     "execution_count": 45,
     "metadata": {},
     "output_type": "execute_result"
    }
   ],
   "source": [
    "d = np.eye(5,dtype = int)\n",
    "d"
   ]
  },
  {
   "cell_type": "code",
   "execution_count": 47,
   "id": "6337588a-8178-4503-9b16-0fe44eeea7f2",
   "metadata": {},
   "outputs": [
    {
     "data": {
      "text/plain": [
       "array([[[[[0, 0, 0, 0, 0],\n",
       "          [0, 0, 0, 0, 0],\n",
       "          [0, 0, 0, 0, 0],\n",
       "          [0, 0, 0, 0, 0]],\n",
       "\n",
       "         [[0, 0, 0, 0, 0],\n",
       "          [0, 0, 0, 0, 0],\n",
       "          [0, 0, 0, 0, 0],\n",
       "          [0, 0, 0, 0, 0]],\n",
       "\n",
       "         [[0, 0, 0, 0, 0],\n",
       "          [0, 0, 0, 0, 0],\n",
       "          [0, 0, 0, 0, 0],\n",
       "          [0, 0, 0, 0, 0]]],\n",
       "\n",
       "\n",
       "        [[[0, 0, 0, 0, 0],\n",
       "          [0, 0, 0, 0, 0],\n",
       "          [0, 0, 0, 0, 0],\n",
       "          [0, 0, 0, 0, 0]],\n",
       "\n",
       "         [[0, 0, 0, 0, 0],\n",
       "          [0, 0, 0, 0, 0],\n",
       "          [0, 0, 0, 0, 0],\n",
       "          [0, 0, 0, 0, 0]],\n",
       "\n",
       "         [[0, 0, 0, 0, 0],\n",
       "          [0, 0, 0, 0, 0],\n",
       "          [0, 0, 0, 0, 0],\n",
       "          [0, 0, 0, 0, 0]]]]])"
      ]
     },
     "execution_count": 47,
     "metadata": {},
     "output_type": "execute_result"
    }
   ],
   "source": [
    "e = np.zeros([1,2,3,4,5],dtype = int)\n",
    "e"
   ]
  },
  {
   "cell_type": "code",
   "execution_count": 35,
   "id": "c3ecc34e-c3cf-483e-bc63-3e5a73a754df",
   "metadata": {},
   "outputs": [
    {
     "name": "stdout",
     "output_type": "stream",
     "text": [
      "[0. 0. 0. 0. 0. 0. 0. 0. 0. 0. 0. 0. 0. 0. 0. 0. 0. 0. 0. 0. 0. 0. 0. 0.\n",
      " 0. 0. 0. 0. 0. 0.]\n"
     ]
    }
   ],
   "source": [
    "f = np.zeros(30)\n",
    "print(f)"
   ]
  },
  {
   "cell_type": "code",
   "execution_count": 57,
   "id": "a4ddb3c5-16a6-4a0e-8fea-210bed7801f7",
   "metadata": {},
   "outputs": [
    {
     "data": {
      "image/png": "[encoded data removed]",
      "text/plain": [
       "<Figure size 640x480 with 2 Axes>"
      ]
     },
     "metadata": {},
     "output_type": "display_data"
    }
   ],
   "source": [
    "import numpy as np\n",
    "import matplotlib.pyplot as plt\n",
    "\n",
    "# Example matrix\n",
    "square_matrix = np.array([[1, 2, 3], \n",
    "                          [4, 5, 6], \n",
    "                          [7, 8, 9]])\n",
    "\n",
    "# Visualize the matrix\n",
    "plt.imshow(square_matrix, cmap='YlGnBu', interpolation='none')\n",
    "plt.colorbar()\n",
    "plt.show()\n"
   ]
  },
  {
   "cell_type": "code",
   "execution_count": 59,
   "id": "58840750-a4ae-40a4-8c8d-1613b2fd8496",
   "metadata": {},
   "outputs": [
    {
     "name": "stdout",
     "output_type": "stream",
     "text": [
      "Matrix A:\n",
      " [[1 2]\n",
      " [3 4]]\n",
      "Matrix B:\n",
      " [[5 6]\n",
      " [7 8]]\n",
      "Matrix Addition (A + B):\n",
      " [[ 6  8]\n",
      " [10 12]]\n",
      "Matrix Subtraction (A - B):\n",
      " [[-4 -4]\n",
      " [-4 -4]]\n",
      "Commutative Property (A + B = B + A): True\n",
      "Associative Property ((A + B) + C = A + (B + C)): True\n"
     ]
    }
   ],
   "source": [
    "import numpy as np\n",
    "\n",
    "# Define two matrices with the same size\n",
    "matrix_A = np.array([[1, 2], [3, 4]])\n",
    "matrix_B = np.array([[5, 6], [7, 8]])\n",
    "\n",
    "# Matrix addition\n",
    "matrix_addition = np.add(matrix_A, matrix_B)\n",
    "\n",
    "# Matrix subtraction\n",
    "matrix_subtraction = np.subtract(matrix_A, matrix_B)\n",
    "\n",
    "# Verifying the commutative property: A + B = B + A\n",
    "commutative_property = np.array_equal(np.add(matrix_A, matrix_B), np.add(matrix_B, matrix_A))\n",
    "\n",
    "# Verifying the associative property: (A + B) + C = A + (B + C)\n",
    "matrix_C = np.array([[2, 2], [2, 2]])\n",
    "associative_property = np.array_equal(np.add(np.add(matrix_A, matrix_B), matrix_C), np.add(matrix_A, np.add(matrix_B, matrix_C)))\n",
    "\n",
    "# Output results\n",
    "print(\"Matrix A:\\n\", matrix_A)\n",
    "print(\"Matrix B:\\n\", matrix_B)\n",
    "print(\"Matrix Addition (A + B):\\n\", matrix_addition)\n",
    "print(\"Matrix Subtraction (A - B):\\n\", matrix_subtraction)\n",
    "print(\"Commutative Property (A + B = B + A):\", commutative_property)\n",
    "print(\"Associative Property ((A + B) + C = A + (B + C)):\", associative_property)\n"
   ]
  },
  {
   "cell_type": "code",
   "execution_count": 73,
   "id": "aa551973-5f5d-497b-8ff2-c199043c60a9",
   "metadata": {},
   "outputs": [
    {
     "name": "stdout",
     "output_type": "stream",
     "text": [
      "q:\n",
      " [[1 2 3]\n",
      " [4 5 6]]\n"
     ]
    }
   ],
   "source": [
    "q=np.array([[1,2,3],[4,5,6]])\n",
    "w=np.array([[7,8,9],[10,11,12]])\n",
    "i = np.add(q,w)\n",
    "print(\"q:\\n\", q)\n"
   ]
  },
  {
   "cell_type": "code",
   "execution_count": 77,
   "id": "77f4c536-8b7e-47b8-a413-8ea76d570079",
   "metadata": {},
   "outputs": [
    {
     "name": "stdout",
     "output_type": "stream",
     "text": [
      "w:\n",
      " [[ 7  8  9]\n",
      " [10 11 12]]\n"
     ]
    }
   ],
   "source": [
    "u = np.subtract(q,w)\n",
    "print(\"w:\\n\",w)"
   ]
  },
  {
   "cell_type": "code",
   "execution_count": 79,
   "id": "2156187b-37b7-42e1-a08a-daa0cd9160a3",
   "metadata": {},
   "outputs": [
    {
     "name": "stdout",
     "output_type": "stream",
     "text": [
      "Matrix Addition (q+w):\n",
      " [[ 6  8]\n",
      " [10 12]]\n"
     ]
    }
   ],
   "source": [
    "commutative_property = np.array_equal(np.add(q,w), np.add(q,w))\n",
    "print(\"Matrix Addition (q+w):\\n\", matrix_addition)\n"
   ]
  },
  {
   "cell_type": "code",
   "execution_count": null,
   "id": "f7fc0e7f-4f87-499f-9f90-d19c8c980225",
   "metadata": {},
   "outputs": [],
   "source": []
  },
  {
   "cell_type": "code",
   "execution_count": null,
   "id": "58bd53f8-8cc1-4b15-82ab-009f67eaec2b",
   "metadata": {},
   "outputs": [],
   "source": []
  },
  {
   "cell_type": "code",
   "execution_count": null,
   "id": "0196a218-3487-4bfc-8018-7067c0219633",
   "metadata": {},
   "outputs": [],
   "source": []
  },
  {
   "cell_type": "code",
   "execution_count": null,
   "id": "6c962239-2765-4b39-ac23-84f167073f6b",
   "metadata": {},
   "outputs": [],
   "source": []
  },
  {
   "cell_type": "code",
   "execution_count": null,
   "id": "3a2bfe06-77ba-4078-a66a-d3773dcd505c",
   "metadata": {},
   "outputs": [],
   "source": []
  },
  {
   "cell_type": "code",
   "execution_count": null,
   "id": "3ddc8567-d50c-43b9-8b6b-2bd467d0323f",
   "metadata": {},
   "outputs": [],
   "source": []
  },
  {
   "cell_type": "code",
   "execution_count": null,
   "id": "c2765121-8100-4906-96c5-0de8bd2d408b",
   "metadata": {},
   "outputs": [],
   "source": []
  },
  {
   "cell_type": "code",
   "execution_count": null,
   "id": "577f5c3f-4e30-448e-aba9-149cf6fd0ce6",
   "metadata": {},
   "outputs": [],
   "source": []
  },
  {
   "cell_type": "code",
   "execution_count": null,
   "id": "593652b7-1cd1-4448-b5b3-bd75d09cd512",
   "metadata": {},
   "outputs": [],
   "source": []
  },
  {
   "cell_type": "code",
   "execution_count": null,
   "id": "ab20ee82-94df-47e2-a7f1-de56a2b449a8",
   "metadata": {},
   "outputs": [],
   "source": []
  }
 ],
 "metadata": {
  "kernelspec": {
   "display_name": "Python 3 (ipykernel)",
   "language": "python",
   "name": "python3"
  },
  "language_info": {
   "codemirror_mode": {
    "name": "ipython",
    "version": 3
   },
   "file_extension": ".py",
   "mimetype": "text/x-python",
   "name": "python",
   "nbconvert_exporter": "python",
   "pygments_lexer": "ipython3",
   "version": "3.12.4"
  }
 },
 "nbformat": 4,
 "nbformat_minor": 5
}
