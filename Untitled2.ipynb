{
 "cells": [
  {
   "cell_type": "markdown",
   "id": "9deb34c2-8f5b-408f-b8e1-e5cacd846c8d",
   "metadata": {},
   "source": [
    "## Write a function that counts the number of unique characters in a given string.\r\n",
    "Example\r\n",
    "Input: \"Hello World\"\r\n",
    "Output: 8\n",
    "\n"
   ]
  },
  {
   "cell_type": "code",
   "execution_count": 59,
   "id": "5862c250-c1f8-4478-a66a-9ecc8e97ea60",
   "metadata": {},
   "outputs": [
    {
     "name": "stdout",
     "output_type": "stream",
     "text": [
      "Input: \"Hello World\"\n",
      "Output: 7\n"
     ]
    }
   ],
   "source": [
    "\n",
    "def count_unique_characters(input_string):\n",
    "    # Remove spaces and convert to lowercase for uniformity\n",
    "    cleaned_string = input_string.replace(\" \", \"\").lower()\n",
    "    \n",
    "    # Create a set from the cleaned string to get unique characters\n",
    "    unique_characters = set(cleaned_string)\n",
    "    \n",
    "    # Return the number of unique characters\n",
    "    return len(unique_characters)\n",
    "\n",
    "# Example usage\n",
    "input_str = \"Hello World\"\n",
    "output = count_unique_characters(input_str)\n",
    "print(f\"Input: \\\"{input_str}\\\"\")\n",
    "print(f\"Output: {output}\")\n",
    "        "
   ]
  },
  {
   "cell_type": "markdown",
   "id": "1c4a35d1-d4e3-4f41-bd8e-c6f0af3114af",
   "metadata": {},
   "source": [
    "## Create a function that returns the factorial of a number using recursion. (Score 2)\r\n",
    "Input: 5\r\n",
    "Output: 120"
   ]
  },
  {
   "cell_type": "code",
   "execution_count": 61,
   "id": "c79b1f96-4e20-4c3a-8bb6-fd3b55e3d217",
   "metadata": {},
   "outputs": [
    {
     "name": "stdin",
     "output_type": "stream",
     "text": [
      "Enter a non-negative integer:  56\n"
     ]
    },
    {
     "name": "stdout",
     "output_type": "stream",
     "text": [
      "The factorial of 56 is: 710998587804863451854045647463724949736497978881168458687447040000000000000\n"
     ]
    }
   ],
   "source": [
    "def factorial(n):\n",
    "    # Base case: factorial of 0 or 1 is 1\n",
    "    if n == 0 or n == 1:\n",
    "        return 1\n",
    "    else:\n",
    "        # Recursive case: n! = n * (n-1)!\n",
    "        return n * factorial(n - 1)\n",
    "\n",
    "# Example usage\n",
    "try:\n",
    "    number = int(input(\"Enter a non-negative integer: \"))\n",
    "    if number < 0:\n",
    "        print(\"Factorial is not defined for negative numbers.\")\n",
    "    else:\n",
    "        result = factorial(number)\n",
    "        print(f\"The factorial of {number} is: {result}\")\n",
    "except ValueError:\n",
    "    print(\"Please enter a valid integer.\")"
   ]
  },
  {
   "cell_type": "markdown",
   "id": "6f7f3fca-d8ae-4321-9b16-bf39b937891e",
   "metadata": {},
   "source": [
    "## Write a function that returns a string counting sheep up to a given number.\r\n",
    "Example\r\n",
    "Input: 3,sheep\r\n",
    "Output:\r\n",
    "1 sheep\r\n",
    "2 sheep\r\n",
    "p\n",
    "4 sheep\n",
    "5 sheep3 shee"
   ]
  },
  {
   "cell_type": "code",
   "execution_count": 63,
   "id": "53277833-062b-4e98-95b2-53a5f22023e3",
   "metadata": {},
   "outputs": [
    {
     "name": "stdin",
     "output_type": "stream",
     "text": [
      "Enter the number of sheep to count:  12\n"
     ]
    },
    {
     "name": "stdout",
     "output_type": "stream",
     "text": [
      "1 sheep\n",
      "2 sheep\n",
      "3 sheep\n",
      "4 sheep\n",
      "5 sheep\n",
      "6 sheep\n",
      "7 sheep\n",
      "8 sheep\n",
      "9 sheep\n",
      "10 sheep\n",
      "11 sheep\n",
      "12 sheep\n"
     ]
    }
   ],
   "source": [
    "def count_sheep(num_sheep):\n",
    "    sheep_string = \"\"\n",
    "    for i in range(1, num_sheep + 1):\n",
    "        sheep_string += f\"{i} sheep\\n\"\n",
    "    return sheep_string.strip()\n",
    "\n",
    "# Example usage\n",
    "try:\n",
    "    num_sheep = int(input(\"Enter the number of sheep to count: \"))\n",
    "    if num_sheep < 1:\n",
    "        print(\"Please enter a positive integer.\")\n",
    "    else:\n",
    "        result = count_sheep(num_sheep)\n",
    "        print(result)\n",
    "except ValueError:\n",
    "    print(\"Please enter a valid integer.\")"
   ]
  },
  {
   "cell_type": "markdown",
   "id": "32df3347-b980-420e-af43-367051bbcfb8",
   "metadata": {},
   "source": [
    "## Interacting Strings (Score 3)\r\n",
    "Write a function that takes two strings composed of + and -, and returns a new string showing how the\r\n",
    "two strings interact. The rules are:\r\n",
    "● Positives and positives remain positive.\r\n",
    "● Negatives and negatives remain negative.\r\n",
    "● Negatives and positives become neutral (0).\r\n",
    "Example\r\n",
    "Input: (\"--++--\", \"++--++\")\r\n",
    "Output: \"000000\"\r\n",
    "Input: (\"-+-+-+\", \"-+-+-+\")\r\n",
    "Output: \"-+-+-+\"\r\n",
    "Input: (\"-++-\", \"-+-+\")\r\n",
    "Output: \"-+00\"\r"
   ]
  },
  {
   "cell_type": "code",
   "execution_count": 83,
   "id": "7a53b8ac-bf24-4a08-929e-66a505dbd6aa",
   "metadata": {},
   "outputs": [
    {
     "name": "stdin",
     "output_type": "stream",
     "text": [
      "Enter the first string (composed of + and -):  ++--++\n",
      "Enter the second string (composed of + and -):  --++--\n"
     ]
    },
    {
     "name": "stdout",
     "output_type": "stream",
     "text": [
      "Output: 000000\n"
     ]
    }
   ],
   "source": [
    "def interact_strings(str1, str2):\n",
    "    # Ensure both strings are of the same length\n",
    "    if len(str1) != len(str2):\n",
    "        raise ValueError(\"Both strings must be of the same length.\")\n",
    "\n",
    "    result = \"\"\n",
    "\n",
    "    for char1, char2 in zip(str1, str2):\n",
    "        if char1 == '+' and char2 == '+':\n",
    "            result += '+'\n",
    "        elif char1 == '-' and char2 == '-':\n",
    "            result += '-'\n",
    "        else:\n",
    "            result += '0'  # One is '+' and the other is '-', resulting in neutral\n",
    "\n",
    "    return result\n",
    "\n",
    "# Example usage\n",
    "try:\n",
    "    input_str1 = input(\"Enter the first string (composed of + and -): \")\n",
    "    input_str2 = input(\"Enter the second string (composed of + and -): \")\n",
    "    \n",
    "    result = interact_strings(input_str1, input_str2)\n",
    "    print(f\"Output: {result}\")\n",
    "except ValueError as e:\n",
    "    print(e)"
   ]
  },
  {
   "cell_type": "markdown",
   "id": "85e8ddc9-00d3-4f5d-a050-72a3dd447e0b",
   "metadata": {},
   "source": [
    "## Write a function mapping() that returns a dictionary with each (key, value) pair being the (lower\r\n",
    "case, upper case) versions of a letter, respectively.\r\n",
    "Input & output\r\n",
    "mapping([\"p\", \"s\"]) ➞ { \"p\": \"P\", \"s\": \"S\" }\r\n",
    "mapping([\"a\", \"b\", \"c\"]) ➞ { \"a\": \"A\", \"b\": \"B\", \"c\": \"C\" }\r\n",
    "mapping([\"a\", \"v\", \"y\", \"z\"]) ➞ { \"a\": \"A\", \"v\": \"V\", \"y\": \"Y\", \"z\": \"Z\" }\r\n",
    "All of the letters in the input list will always be loewercas"
   ]
  },
  {
   "cell_type": "code",
   "execution_count": 67,
   "id": "8071c799-c3a0-4c1e-bc66-c6c3c0262473",
   "metadata": {},
   "outputs": [
    {
     "name": "stdout",
     "output_type": "stream",
     "text": [
      "{'p': 'P', 's': 'S'}\n",
      "{'a': 'A', 'b': 'B', 'c': 'C'}\n",
      "{'a': 'A', 'v': 'V', 'y': 'Y', 'z': 'Z'}\n"
     ]
    }
   ],
   "source": [
    "def mapping(letters):\n",
    "    # Create a dictionary using a dictionary comprehension\n",
    "    return {letter: letter.upper() for letter in letters}\n",
    "\n",
    "# Example usage\n",
    "print(mapping([\"p\", \"s\"]))          # Output: {'p': 'P', 's': 'S'}\n",
    "print(mapping([\"a\", \"b\", \"c\"]))     # Output: {'a': 'A', 'b': 'B', 'c': 'C'}\n",
    "print(mapping([\"a\", \"v\", \"y\", \"z\"])) # Output: {'a': 'A', 'v': 'V', 'y': 'Y', 'z': 'Z'}"
   ]
  },
  {
   "cell_type": "code",
   "execution_count": null,
   "id": "79a6929c-2896-4be2-879e-16f7334f0c7b",
   "metadata": {},
   "outputs": [],
   "source": [
    "Write a Python code to validate the password given by the user based on the following\n",
    "conditions:\n",
    "● It should be at least 8 and at most 32 characters.\n",
    "● It should start with an uppercase or lowercase alphabet.\n",
    "● It can contain numbers.\n",
    "● It can contain the characters !, @, #, $, %, ^, &, _, *, = and ..\n",
    "● It should not have the characters /, \\, =, \", ', and spaces.\n",
    "Sample Input 1:\n",
    "Password@123\n",
    "Sample Output 1:\n",
    "Valid\n",
    "Sample Input 2:\n",
    "Pass word123\n",
    "Sample Output 2:\n",
    "Invalid"
   ]
  },
  {
   "cell_type": "code",
   "execution_count": 69,
   "id": "d4c528ff-a486-4354-b339-a457d1ec537e",
   "metadata": {},
   "outputs": [
    {
     "name": "stdin",
     "output_type": "stream",
     "text": [
      "Enter a password:  Shamliya393\n"
     ]
    },
    {
     "name": "stdout",
     "output_type": "stream",
     "text": [
      "Valid\n"
     ]
    }
   ],
   "source": [
    "import re\n",
    "\n",
    "def validate_password(password):\n",
    "    # Check length\n",
    "    if not (8 <= len(password) <= 32):\n",
    "        return \"Invalid\"\n",
    "    \n",
    "    # Check if it starts with an alphabet\n",
    "    if not (password[0].isalpha()):\n",
    "        return \"Invalid\"\n",
    "    \n",
    "    # Define allowed characters\n",
    "    allowed_characters = r\"[A-Za-z0-9!@#$%^&*()_+=]\"\n",
    "    \n",
    "    # Check for invalid characters\n",
    "    if re.search(r\"[\\\\/\\\"' ]\", password):\n",
    "        return \"Invalid\"\n",
    "    \n",
    "    # Check if all characters are valid\n",
    "    if not re.fullmatch(allowed_characters + r\"*\", password):\n",
    "        return \"Invalid\"\n",
    "    \n",
    "    return \"Valid\"\n",
    "\n",
    "# Example usage\n",
    "user_input = input(\"Enter a password: \")\n",
    "result = validate_password(user_input)\n",
    "print(result)"
   ]
  },
  {
   "cell_type": "markdown",
   "id": "5935ebd8-7ba1-4543-be84-601dd6394220",
   "metadata": {},
   "source": [
    "## Write a function that checks if the dish brought by an animal follows the feast rule: the dish must start and\r\n",
    "end with the same letters as the animal's name.\r\n",
    "Example\r\n",
    "Input: (\"great blue heron\", \"garlic naan\")\r\n",
    "Output: true\r"
   ]
  },
  {
   "cell_type": "code",
   "execution_count": 71,
   "id": "78c9cd63-bac0-4418-bc4d-88d2497a0f73",
   "metadata": {},
   "outputs": [
    {
     "name": "stdout",
     "output_type": "stream",
     "text": [
      "True\n",
      "True\n",
      "False\n"
     ]
    }
   ],
   "source": [
    "def feast(animal, dish):\n",
    "    # Convert animal and dish to lowercase for case-insensitive comparison\n",
    "    animal = animal.lower()\n",
    "    dish = dish.lower()\n",
    "    \n",
    "    # Check if the first and last letters of animal and dish match\n",
    "    return animal[0] == dish[0] and animal[-1] == dish[-1]\n",
    "\n",
    "# Example usage\n",
    "print(feast(\"great blue heron\", \"garlic naan\"))  # Output: True\n",
    "print(feast(\"chickadee\", \"chocolate cake\"))      # Output: True\n",
    "print(feast(\"brown bear\", \"bear claw\"))    "
   ]
  },
  {
   "cell_type": "markdown",
   "id": "3955f945-669c-427d-af5b-c3a9c794de3f",
   "metadata": {},
   "source": [
    "## Write a function to take a string from user, return the number of occurrence of each character in\r\n",
    "ascending order(2)\r\n",
    "Input : banana\r\n",
    "Output :\r\n",
    "'b': 1\r\n",
    "'n': 2\r",
    "3\n",
    "'a': "
   ]
  },
  {
   "cell_type": "code",
   "execution_count": 73,
   "id": "bf685fb4-2c1a-4795-b055-5712943ab25f",
   "metadata": {},
   "outputs": [
    {
     "name": "stdin",
     "output_type": "stream",
     "text": [
      "Enter a string:  banana\n"
     ]
    },
    {
     "name": "stdout",
     "output_type": "stream",
     "text": [
      "'a': 3\n",
      "'b': 1\n",
      "'n': 2\n"
     ]
    }
   ],
   "source": [
    "def count_characters(input_string):\n",
    "    # Create a dictionary to store character counts\n",
    "    char_count = {}\n",
    "    \n",
    "    # Count occurrences of each character\n",
    "    for char in input_string:\n",
    "        if char in char_count:\n",
    "            char_count[char] += 1\n",
    "        else:\n",
    "            char_count[char] = 1\n",
    "    \n",
    "    # Sort the dictionary by character (key)\n",
    "    sorted_char_count = dict(sorted(char_count.items()))\n",
    "    \n",
    "    return sorted_char_count\n",
    "\n",
    "# Example usage\n",
    "user_input = input(\"Enter a string: \")\n",
    "result = count_characters(user_input)\n",
    "\n",
    "# Print the results\n",
    "for char, count in result.items():\n",
    "    print(f\"'{char}': {count}\")"
   ]
  },
  {
   "cell_type": "markdown",
   "id": "8c308bc1-91c5-4fd0-898a-fc06ad998961",
   "metadata": {},
   "source": [
    "## Write a Python code to find the quadrant of a point taken as input from the user. The input is given in 2\r\n",
    "lines with the first and second lines representing the point's x coordinate and y coordinate, respectively.\r\n",
    "The possible outputs are I, II, III, IV, X-axis, Y-axis, and Origin.\r\n",
    "Sample Input-1:\r\n",
    "1\r\n",
    "2\r\n",
    "Sample Output-1:\r\n",
    "I\r\n",
    "Sample Input-2:\r\n",
    "1.8\r\n",
    "-1\r\n",
    "Sample Output-2:\r\n",
    "IV"
   ]
  },
  {
   "cell_type": "code",
   "execution_count": 75,
   "id": "879f9c63-7870-4a54-9704-9a5088c8f5cf",
   "metadata": {},
   "outputs": [
    {
     "name": "stdin",
     "output_type": "stream",
     "text": [
      "Enter the x coordinate:  5\n",
      "Enter the y coordinate:  8\n"
     ]
    },
    {
     "name": "stdout",
     "output_type": "stream",
     "text": [
      "I\n"
     ]
    }
   ],
   "source": [
    "def find_quadrant(x, y):\n",
    "    if x == 0 and y == 0:\n",
    "        return \"Origin\"\n",
    "    elif x == 0:\n",
    "        return \"Y-axis\"\n",
    "    elif y == 0:\n",
    "        return \"X-axis\"\n",
    "    elif x > 0 and y > 0:\n",
    "        return \"I\"\n",
    "    elif x < 0 and y > 0:\n",
    "        return \"II\"\n",
    "    elif x < 0 and y < 0:\n",
    "        return \"III\"\n",
    "    elif x > 0 and y < 0:\n",
    "        return \"IV\"\n",
    "\n",
    "# Example usage\n",
    "try:\n",
    "    x_coordinate = float(input(\"Enter the x coordinate: \"))\n",
    "    y_coordinate = float(input(\"Enter the y coordinate: \"))\n",
    "    \n",
    "    quadrant = find_quadrant(x_coordinate, y_coordinate)\n",
    "    print(quadrant)\n",
    "except ValueError:\n",
    "    print(\"Please enter valid numeric coordinates.\")"
   ]
  },
  {
   "cell_type": "markdown",
   "id": "c4217465-557b-4ed7-a7a0-4aeb5330b6b5",
   "metadata": {},
   "source": [
    "## Bracket validation ( Score 3)\r\n",
    "Write a function to accept a string s from the user that contains the following brackets: (, ), {, }, [ and ].\r\n",
    "Note:\r\n",
    "● {}, [], and () are the opening and closing brackets which need to be verified.\r\n",
    "● All the opening brackets should be closed with the same type of closing bracket in the correct\r\n",
    "order.\r\n",
    "Output:\r\n",
    "● Return True if all the brackets are open and closed in a proper manner.\r\n",
    "● Otherwise, Return False.\r"
   ]
  },
  {
   "cell_type": "code",
   "execution_count": 85,
   "id": "45f3eae3-9b7a-40b3-a6ee-27a82287adf3",
   "metadata": {},
   "outputs": [
    {
     "name": "stdin",
     "output_type": "stream",
     "text": [
      "Enter a string containing brackets:  {45678]\n"
     ]
    },
    {
     "name": "stdout",
     "output_type": "stream",
     "text": [
      "False\n"
     ]
    }
   ],
   "source": [
    "def is_valid_brackets(s):\n",
    "    # Stack to keep track of opening brackets\n",
    "    stack = []\n",
    "    \n",
    "    # Dictionary to match closing brackets with their corresponding opening brackets\n",
    "    bracket_map = {')': '(', '}': '{', ']': '['}\n",
    "    \n",
    "    for char in s:\n",
    "        # If the character is one of the closing brackets\n",
    "        if char in bracket_map:\n",
    "            # Pop from stack if it's not empty, else assign a dummy value\n",
    "            top_element = stack.pop() if stack else '#'\n",
    "            # Check if the popped bracket matches the corresponding opening bracket\n",
    "            if bracket_map[char] != top_element:\n",
    "                return False\n",
    "        # If it's an opening bracket, push onto the stack\n",
    "        elif char in bracket_map.values():\n",
    "            stack.append(char)\n",
    "    \n",
    "    # If the stack is empty, all brackets are matched; otherwise, they're not\n",
    "    return not stack\n",
    "\n",
    "# Example usage\n",
    "user_input = input(\"Enter a string containing brackets: \")\n",
    "result = is_valid_brackets(user_input)\n",
    "print(result)"
   ]
  },
  {
   "cell_type": "markdown",
   "id": "b0155ea9-3960-4e69-b015-6feec7bd2c17",
   "metadata": {},
   "source": [
    "## You are given a dictionary where the keys are names of students and the values are their scores in a test.\r\n",
    "Write a Python program to do the following:\r\n",
    "1. Calculate and print the average score of all students.\r\n",
    "2. Identify and print the names of students who scored above the average.\r\n",
    "3. Identify and print the names of students who scored below the average.\r\n",
    "students_scores = { 'Alice': 85, 'Bob': 78, 'Charlie': 92, 'David': 64, 'Eve': 88 }"
   ]
  },
  {
   "cell_type": "code",
   "execution_count": 79,
   "id": "9132303c-bb46-4e16-8fc7-e232392be0d5",
   "metadata": {},
   "outputs": [
    {
     "name": "stdout",
     "output_type": "stream",
     "text": [
      "Average score: 81.40\n",
      "Students who scored above the average:\n",
      "Alice, Charlie, Eve\n",
      "Students who scored below the average:\n",
      "Bob, David\n"
     ]
    }
   ],
   "source": [
    "students_scores = {\n",
    "    'Alice': 85,\n",
    "    'Bob': 78,\n",
    "    'Charlie': 92,\n",
    "    'David': 64,\n",
    "    'Eve': 88\n",
    "}\n",
    "\n",
    "def analyze_scores(scores):\n",
    "    # Calculate the average score\n",
    "    total_score = sum(scores.values())\n",
    "    average_score = total_score / len(scores)\n",
    "    \n",
    "    # Print the average score\n",
    "    print(f\"Average score: {average_score:.2f}\")\n",
    "    \n",
    "    # Identify students who scored above and below the average\n",
    "    above_average = [name for name, score in scores.items() if score > average_score]\n",
    "    below_average = [name for name, score in scores.items() if score < average_score]\n",
    "    \n",
    "    # Print names of students above average\n",
    "    print(\"Students who scored above the average:\")\n",
    "    print(\", \".join(above_average) if above_average else \"None\")\n",
    "    \n",
    "    # Print names of students below average\n",
    "    print(\"Students who scored below the average:\")\n",
    "    print(\", \".join(below_average) if below_average else \"None\")\n",
    "\n",
    "# Example usage\n",
    "analyze_scores(students_scores)"
   ]
  },
  {
   "cell_type": "markdown",
   "id": "af915224-e09e-475a-9371-fdebe544556d",
   "metadata": {},
   "source": [
    "## Write a program to find all the prime factors of a number taken as input from the user. Assume the accepted\r\n",
    "input as a positive integer greater than or equal to 2"
   ]
  },
  {
   "cell_type": "code",
   "execution_count": 81,
   "id": "552b87a7-4908-44db-8be0-abd50bffa98d",
   "metadata": {},
   "outputs": [
    {
     "name": "stdin",
     "output_type": "stream",
     "text": [
      "Enter a positive integer (greater than or equal to 2):  6\n"
     ]
    },
    {
     "name": "stdout",
     "output_type": "stream",
     "text": [
      "The prime factors of 6 are: [2, 3]\n"
     ]
    }
   ],
   "source": [
    "def prime_factors(n):\n",
    "    factors = []\n",
    "    \n",
    "    # Check for number of 2s that divide n\n",
    "    while n % 2 == 0:\n",
    "        factors.append(2)\n",
    "        n //= 2\n",
    "    \n",
    "    # n must be odd at this point, so we can skip even numbers\n",
    "    for i in range(3, int(n**0.5) + 1, 2):\n",
    "        while n % i == 0:\n",
    "            factors.append(i)\n",
    "            n //= i\n",
    "    \n",
    "    # This condition is to check if n is a prime number greater than 2\n",
    "    if n > 2:\n",
    "        factors.append(n)\n",
    "    \n",
    "    return factors\n",
    "\n",
    "# Example usage\n",
    "try:\n",
    "    user_input = int(input(\"Enter a positive integer (greater than or equal to 2): \"))\n",
    "    \n",
    "    if user_input < 2:\n",
    "        print(\"Please enter a number greater than or equal to 2.\")\n",
    "    else:\n",
    "        result = prime_factors(user_input)\n",
    "        print(f\"The prime factors of {user_input} are: {result}\")\n",
    "except ValueError:\n",
    "    print(\"Please enter a valid integer.\")"
   ]
  }
 ],
 "metadata": {
  "kernelspec": {
   "display_name": "Python 3 (ipykernel)",
   "language": "python",
   "name": "python3"
  },
  "language_info": {
   "codemirror_mode": {
    "name": "ipython",
    "version": 3
   },
   "file_extension": ".py",
   "mimetype": "text/x-python",
   "name": "python",
   "nbconvert_exporter": "python",
   "pygments_lexer": "ipython3",
   "version": "3.12.4"
  }
 },
 "nbformat": 4,
 "nbformat_minor": 5
}
