{
 "cells": [
  {
   "cell_type": "code",
   "execution_count": 5,
   "id": "442afe8a-bb3e-4dd0-9c81-79adb8dc8b8d",
   "metadata": {},
   "outputs": [],
   "source": [
    "import numpy as np\n"
   ]
  },
  {
   "cell_type": "markdown",
   "id": "51eb56a6-968d-43d6-8dcc-fc4df2fb8a4f",
   "metadata": {},
   "source": [
    "## basic codes "
   ]
  },
  {
   "cell_type": "code",
   "execution_count": 318,
   "id": "dbce25ff-b155-435d-8918-5d50e579ab01",
   "metadata": {},
   "outputs": [
    {
     "data": {
      "text/plain": [
       "array([1., 2., 3., 4., 5.])"
      ]
     },
     "execution_count": 318,
     "metadata": {},
     "output_type": "execute_result"
    }
   ],
   "source": [
    "a = np.array([1,2,3,4,5.0])\n",
    "a"
   ]
  },
  {
   "cell_type": "code",
   "execution_count": 320,
   "id": "4a21c2ad-2d1d-44ef-a0e7-a94681028ca8",
   "metadata": {},
   "outputs": [
    {
     "data": {
      "text/plain": [
       "dtype('float64')"
      ]
     },
     "execution_count": 320,
     "metadata": {},
     "output_type": "execute_result"
    }
   ],
   "source": [
    "a.dtype"
   ]
  },
  {
   "cell_type": "code",
   "execution_count": 9,
   "id": "8e4496f1-dc07-4efa-9a4a-078c627c857f",
   "metadata": {},
   "outputs": [
    {
     "name": "stdout",
     "output_type": "stream",
     "text": [
      "[1 2 3 4]\n"
     ]
    }
   ],
   "source": [
    "a = np.array([1,2,3,4])\n",
    "print(a)"
   ]
  },
  {
   "cell_type": "code",
   "execution_count": 11,
   "id": "f5cc8dd6-15f9-4539-bc49-6b4e82954cf7",
   "metadata": {},
   "outputs": [
    {
     "name": "stdout",
     "output_type": "stream",
     "text": [
      "[[1. 2. 3.]\n",
      " [8. 7. 5.]]\n"
     ]
    }
   ],
   "source": [
    "b = np.array([[1.0,2.0,3.0],[8.0,7.0,5.0]])\n",
    "print(b)"
   ]
  },
  {
   "cell_type": "markdown",
   "id": "d59c302a-6200-4e6d-b022-c661df5ddfbd",
   "metadata": {},
   "source": [
    "## get dimension"
   ]
  },
  {
   "cell_type": "code",
   "execution_count": 13,
   "id": "fa247efa-9085-44f5-ad2c-96110643d277",
   "metadata": {},
   "outputs": [
    {
     "data": {
      "text/plain": [
       "1"
      ]
     },
     "execution_count": 13,
     "metadata": {},
     "output_type": "execute_result"
    }
   ],
   "source": [
    "a.ndim"
   ]
  },
  {
   "cell_type": "code",
   "execution_count": 15,
   "id": "6a9f6f88-f382-4303-9e7e-e049ce3bdc2f",
   "metadata": {},
   "outputs": [
    {
     "data": {
      "text/plain": [
       "2"
      ]
     },
     "execution_count": 15,
     "metadata": {},
     "output_type": "execute_result"
    }
   ],
   "source": [
    "b.ndim"
   ]
  },
  {
   "cell_type": "markdown",
   "id": "09429013-9c4a-4eed-bd69-3ba4e81b5005",
   "metadata": {},
   "source": [
    "## get shape"
   ]
  },
  {
   "cell_type": "code",
   "execution_count": 19,
   "id": "7cd3248b-e59e-4a90-8a6a-3d00dccf339d",
   "metadata": {},
   "outputs": [
    {
     "data": {
      "text/plain": [
       "(4,)"
      ]
     },
     "execution_count": 19,
     "metadata": {},
     "output_type": "execute_result"
    }
   ],
   "source": [
    "a.shape"
   ]
  },
  {
   "cell_type": "code",
   "execution_count": 21,
   "id": "dc7e542d-5804-42cc-a47a-6df39e674196",
   "metadata": {},
   "outputs": [
    {
     "data": {
      "text/plain": [
       "(2, 3)"
      ]
     },
     "execution_count": 21,
     "metadata": {},
     "output_type": "execute_result"
    }
   ],
   "source": [
    "b.shape"
   ]
  },
  {
   "cell_type": "markdown",
   "id": "4e6a2728-5def-4a1b-b4a2-ab0ae5e95ce9",
   "metadata": {},
   "source": [
    "## get type"
   ]
  },
  {
   "cell_type": "code",
   "execution_count": 23,
   "id": "10635563-3548-4336-8932-4251ba5f8e6c",
   "metadata": {},
   "outputs": [
    {
     "data": {
      "text/plain": [
       "dtype('int32')"
      ]
     },
     "execution_count": 23,
     "metadata": {},
     "output_type": "execute_result"
    }
   ],
   "source": [
    "a.dtype"
   ]
  },
  {
   "cell_type": "code",
   "execution_count": 25,
   "id": "2bee1452-9b41-4764-90c4-4779558ca247",
   "metadata": {},
   "outputs": [
    {
     "data": {
      "text/plain": [
       "dtype('float64')"
      ]
     },
     "execution_count": 25,
     "metadata": {},
     "output_type": "execute_result"
    }
   ],
   "source": [
    "b.dtype"
   ]
  },
  {
   "cell_type": "code",
   "execution_count": 33,
   "id": "57a18a5b-1886-4ede-8fb3-243920989f41",
   "metadata": {},
   "outputs": [
    {
     "name": "stdout",
     "output_type": "stream",
     "text": [
      "[1 2 3 4]\n"
     ]
    }
   ],
   "source": [
    "a = np.array([1,2,3,4],dtype = 'int16')\n",
    "print(a)\n"
   ]
  },
  {
   "cell_type": "markdown",
   "id": "1a981dfc-b542-420c-802d-7d3977f0af3b",
   "metadata": {},
   "source": [
    "## get size"
   ]
  },
  {
   "cell_type": "code",
   "execution_count": 35,
   "id": "8bcc9a5b-fb7a-4581-b587-c3edf6c1eea8",
   "metadata": {},
   "outputs": [
    {
     "data": {
      "text/plain": [
       "2"
      ]
     },
     "execution_count": 35,
     "metadata": {},
     "output_type": "execute_result"
    }
   ],
   "source": [
    "a.itemsize"
   ]
  },
  {
   "cell_type": "code",
   "execution_count": 548,
   "id": "d904ca46-b8a3-4a2b-bc70-e345c6ddd6dd",
   "metadata": {},
   "outputs": [
    {
     "name": "stdout",
     "output_type": "stream",
     "text": [
      "[1 2 3 4]\n"
     ]
    }
   ],
   "source": [
    "a = np.array([1,2,3,4],dtype = 'int32')\n",
    "print(a)\n"
   ]
  },
  {
   "cell_type": "code",
   "execution_count": 39,
   "id": "adc0fc2d-765d-4308-bd02-b828ac867524",
   "metadata": {},
   "outputs": [
    {
     "data": {
      "text/plain": [
       "4"
      ]
     },
     "execution_count": 39,
     "metadata": {},
     "output_type": "execute_result"
    }
   ],
   "source": [
    "a.itemsize"
   ]
  },
  {
   "cell_type": "markdown",
   "id": "5100c30e-c913-4fd0-bbdc-d1f51403a573",
   "metadata": {},
   "source": [
    "## get total size"
   ]
  },
  {
   "cell_type": "code",
   "execution_count": 41,
   "id": "3952348a-dbce-4300-9f34-531e75243e48",
   "metadata": {},
   "outputs": [
    {
     "data": {
      "text/plain": [
       "4"
      ]
     },
     "execution_count": 41,
     "metadata": {},
     "output_type": "execute_result"
    }
   ],
   "source": [
    "a.size"
   ]
  },
  {
   "cell_type": "markdown",
   "id": "267def3e-5b86-4298-8884-47669a45e994",
   "metadata": {},
   "source": [
    "## number of bytes"
   ]
  },
  {
   "cell_type": "code",
   "execution_count": 43,
   "id": "4ea13855-efe9-4f14-882b-1130ed76db58",
   "metadata": {},
   "outputs": [
    {
     "data": {
      "text/plain": [
       "16"
      ]
     },
     "execution_count": 43,
     "metadata": {},
     "output_type": "execute_result"
    }
   ],
   "source": [
    "a.nbytes"
   ]
  },
  {
   "cell_type": "markdown",
   "id": "bac05ccb-43d0-47c5-b507-2015ca3d814f",
   "metadata": {},
   "source": [
    "#### accessing or changing specific elements , rows , coloumns etc.."
   ]
  },
  {
   "cell_type": "code",
   "execution_count": 47,
   "id": "d92f1585-97dd-4069-a51d-f6f8316dd714",
   "metadata": {},
   "outputs": [
    {
     "name": "stdout",
     "output_type": "stream",
     "text": [
      "[[ 1  2  3  4  5  6  7]\n",
      " [ 8  9 10 11 12 13 14]]\n"
     ]
    }
   ],
   "source": [
    "a = np.array([[1,2,3,4,5,6,7],[8,9,10,11,12,13,14]])\n",
    "print(a)"
   ]
  },
  {
   "cell_type": "code",
   "execution_count": 49,
   "id": "f2d3ae26-e0fb-4470-84ce-7e364b05add7",
   "metadata": {},
   "outputs": [
    {
     "data": {
      "text/plain": [
       "(2, 7)"
      ]
     },
     "execution_count": 49,
     "metadata": {},
     "output_type": "execute_result"
    }
   ],
   "source": [
    "a.shape"
   ]
  },
  {
   "cell_type": "markdown",
   "id": "5da6b733-0b66-4cf7-a7a7-caa717b7a1c4",
   "metadata": {},
   "source": [
    "### get a specific element (r,c)"
   ]
  },
  {
   "cell_type": "code",
   "execution_count": 51,
   "id": "f4ace694-a08a-4113-9603-1af6bb760cc0",
   "metadata": {},
   "outputs": [
    {
     "data": {
      "text/plain": [
       "14"
      ]
     },
     "execution_count": 51,
     "metadata": {},
     "output_type": "execute_result"
    }
   ],
   "source": [
    "a[1,6]"
   ]
  },
  {
   "cell_type": "markdown",
   "id": "92e98799-4e31-4d9e-bb27-64333f5cea96",
   "metadata": {},
   "source": [
    "### get a specific row"
   ]
  },
  {
   "cell_type": "code",
   "execution_count": 53,
   "id": "86e0e58f-2432-4bd6-99b3-9584e5d46d0b",
   "metadata": {},
   "outputs": [
    {
     "data": {
      "text/plain": [
       "array([1, 2, 3, 4, 5, 6, 7])"
      ]
     },
     "execution_count": 53,
     "metadata": {},
     "output_type": "execute_result"
    }
   ],
   "source": [
    "a[0,:]"
   ]
  },
  {
   "cell_type": "markdown",
   "id": "79ed1aec-4f96-4fb2-93e8-d18df1cf9c6c",
   "metadata": {},
   "source": [
    "### initializing different type of arrays"
   ]
  },
  {
   "cell_type": "markdown",
   "id": "bfdf15bc-99b8-49a0-a4e7-b4192bcf96a9",
   "metadata": {},
   "source": [
    "## all 0's matrix"
   ]
  },
  {
   "cell_type": "code",
   "execution_count": 312,
   "id": "b9316ac4-9900-41c9-941b-8ae1b3cb5ac2",
   "metadata": {},
   "outputs": [],
   "source": [
    "a=np.zeros(5,dtype=int)"
   ]
  },
  {
   "cell_type": "code",
   "execution_count": 314,
   "id": "d90060c1-9b89-42ed-8f43-74fc62e0012e",
   "metadata": {},
   "outputs": [
    {
     "data": {
      "text/plain": [
       "dtype('int32')"
      ]
     },
     "execution_count": 314,
     "metadata": {},
     "output_type": "execute_result"
    }
   ],
   "source": [
    "a.dtype"
   ]
  },
  {
   "cell_type": "code",
   "execution_count": 306,
   "id": "f06ea6bd-3843-4850-b7a3-c6e706ea94f1",
   "metadata": {},
   "outputs": [
    {
     "data": {
      "text/plain": [
       "array([[[0, 0, 0],\n",
       "        [0, 0, 0],\n",
       "        [0, 0, 0]],\n",
       "\n",
       "       [[0, 0, 0],\n",
       "        [0, 0, 0],\n",
       "        [0, 0, 0]]])"
      ]
     },
     "execution_count": 306,
     "metadata": {},
     "output_type": "execute_result"
    }
   ],
   "source": [
    "np.zeros((2,3,3),dtype=int)"
   ]
  },
  {
   "cell_type": "markdown",
   "id": "2a7636f7-d1c2-4a23-924d-abc8ab906062",
   "metadata": {},
   "source": [
    "### all 1's matrix "
   ]
  },
  {
   "cell_type": "code",
   "execution_count": 596,
   "id": "330c3502-20f8-4fc3-a5ae-8de3f1e46d1a",
   "metadata": {},
   "outputs": [
    {
     "data": {
      "text/plain": [
       "array([[[1, 1, 1, 1],\n",
       "        [1, 1, 1, 1],\n",
       "        [1, 1, 1, 1],\n",
       "        [1, 1, 1, 1]],\n",
       "\n",
       "       [[1, 1, 1, 1],\n",
       "        [1, 1, 1, 1],\n",
       "        [1, 1, 1, 1],\n",
       "        [1, 1, 1, 1]],\n",
       "\n",
       "       [[1, 1, 1, 1],\n",
       "        [1, 1, 1, 1],\n",
       "        [1, 1, 1, 1],\n",
       "        [1, 1, 1, 1]],\n",
       "\n",
       "       [[1, 1, 1, 1],\n",
       "        [1, 1, 1, 1],\n",
       "        [1, 1, 1, 1],\n",
       "        [1, 1, 1, 1]]])"
      ]
     },
     "execution_count": 596,
     "metadata": {},
     "output_type": "execute_result"
    }
   ],
   "source": [
    "np.ones((4,4,4),dtype = int)"
   ]
  },
  {
   "cell_type": "code",
   "execution_count": 600,
   "id": "d1fb13a9-1ac5-4a15-bf54-817619017edc",
   "metadata": {},
   "outputs": [
    {
     "data": {
      "text/plain": [
       "array([[[1, 1, 1, 1, 1],\n",
       "        [1, 1, 1, 1, 1],\n",
       "        [1, 1, 1, 1, 1],\n",
       "        [1, 1, 1, 1, 1],\n",
       "        [1, 1, 1, 1, 1]],\n",
       "\n",
       "       [[1, 1, 1, 1, 1],\n",
       "        [1, 1, 1, 1, 1],\n",
       "        [1, 1, 1, 1, 1],\n",
       "        [1, 1, 1, 1, 1],\n",
       "        [1, 1, 1, 1, 1]],\n",
       "\n",
       "       [[1, 1, 1, 1, 1],\n",
       "        [1, 1, 1, 1, 1],\n",
       "        [1, 1, 1, 1, 1],\n",
       "        [1, 1, 1, 1, 1],\n",
       "        [1, 1, 1, 1, 1]],\n",
       "\n",
       "       [[1, 1, 1, 1, 1],\n",
       "        [1, 1, 1, 1, 1],\n",
       "        [1, 1, 1, 1, 1],\n",
       "        [1, 1, 1, 1, 1],\n",
       "        [1, 1, 1, 1, 1]]], dtype=int64)"
      ]
     },
     "execution_count": 600,
     "metadata": {},
     "output_type": "execute_result"
    }
   ],
   "source": [
    "np.ones((4,5,5),dtype='int64')\n"
   ]
  },
  {
   "cell_type": "markdown",
   "id": "fdd489ab-e592-4bbd-b2da-ceacadd58858",
   "metadata": {},
   "source": [
    "### any other number"
   ]
  },
  {
   "cell_type": "code",
   "execution_count": 604,
   "id": "229c8e58-ce85-4977-b23b-a204c01775ad",
   "metadata": {},
   "outputs": [
    {
     "data": {
      "text/plain": [
       "array([[100, 100, 100, 100],\n",
       "       [100, 100, 100, 100],\n",
       "       [100, 100, 100, 100],\n",
       "       [100, 100, 100, 100]])"
      ]
     },
     "execution_count": 604,
     "metadata": {},
     "output_type": "execute_result"
    }
   ],
   "source": [
    "np.full((4,4),100)"
   ]
  },
  {
   "cell_type": "markdown",
   "id": "912c51c9-997a-40ca-92fc-021f6f383b39",
   "metadata": {},
   "source": [
    "### basic operations"
   ]
  },
  {
   "cell_type": "code",
   "execution_count": 99,
   "id": "582fb463-bf96-4f15-a65f-afd5e57e7798",
   "metadata": {},
   "outputs": [
    {
     "name": "stdout",
     "output_type": "stream",
     "text": [
      "[5 7 9]\n"
     ]
    }
   ],
   "source": [
    "x = np.array([1, 2, 3])\n",
    "y = np.array([4, 5, 6])\n",
    "print( x + y)"
   ]
  },
  {
   "cell_type": "code",
   "execution_count": 608,
   "id": "d9d612e8-210f-4eb6-972f-6eeeb457c4c0",
   "metadata": {},
   "outputs": [
    {
     "name": "stdout",
     "output_type": "stream",
     "text": [
      "[  1  32 729]\n"
     ]
    }
   ],
   "source": [
    "x = np.array([1, 2, 3])  \n",
    "y = np.array([4, 5, 6])  \n",
    "print( x ** y)"
   ]
  },
  {
   "cell_type": "code",
   "execution_count": 95,
   "id": "4da53594-28ac-483a-b7f4-14cddec7f65e",
   "metadata": {},
   "outputs": [
    {
     "name": "stdout",
     "output_type": "stream",
     "text": [
      "[5 7 9]\n"
     ]
    }
   ],
   "source": [
    "x = np.array([1, 2, 3])\n",
    "y = np.array([4, 5, 6])\n",
    "result = x + y\n",
    "print(result)"
   ]
  },
  {
   "cell_type": "code",
   "execution_count": 572,
   "id": "b872436d-afc8-45d0-bfad-d9be08d3a490",
   "metadata": {},
   "outputs": [
    {
     "name": "stdout",
     "output_type": "stream",
     "text": [
      "[5 2 1 2]\n"
     ]
    }
   ],
   "source": [
    "x=np.array([2,4,5,7])\n",
    "y=np.array([7,6,6,9])\n",
    "print(y-x)"
   ]
  },
  {
   "cell_type": "code",
   "execution_count": 103,
   "id": "9cdbcbcf-cbec-4058-b1ec-3afcb52ee32d",
   "metadata": {},
   "outputs": [
    {
     "name": "stdout",
     "output_type": "stream",
     "text": [
      "[14 24 30 63]\n"
     ]
    }
   ],
   "source": [
    "x=np.array([2,4,5,7])\n",
    "y=np.array([7,6,6,9])\n",
    "print(x*y)"
   ]
  },
  {
   "cell_type": "code",
   "execution_count": 574,
   "id": "a118448e-210d-41f6-af01-79f415081250",
   "metadata": {},
   "outputs": [
    {
     "name": "stdout",
     "output_type": "stream",
     "text": [
      "[3.5        1.5        1.2        1.28571429]\n"
     ]
    }
   ],
   "source": [
    "x=np.array([2,4,5,7])\n",
    "y=np.array([7,6,6,9])\n",
    "print(y/x)"
   ]
  },
  {
   "cell_type": "markdown",
   "id": "c3365822-40b3-4d60-be66-1b194c9ee46e",
   "metadata": {},
   "source": [
    "# array manipulations --- Reshaping arrays"
   ]
  },
  {
   "cell_type": "code",
   "execution_count": 131,
   "id": "dc327c0e-5fec-4c0f-a7a2-9bcba030406f",
   "metadata": {},
   "outputs": [
    {
     "name": "stdout",
     "output_type": "stream",
     "text": [
      "[[0 1 2]\n",
      " [3 4 5]]\n"
     ]
    }
   ],
   "source": [
    "import numpy as np\n",
    "array = np.arange(6)\n",
    "reshaped = array.reshape(2,3)\n",
    "print(reshaped)"
   ]
  },
  {
   "cell_type": "code",
   "execution_count": 129,
   "id": "44f9d736-3316-437f-b6a5-6b70a1954548",
   "metadata": {},
   "outputs": [
    {
     "name": "stdout",
     "output_type": "stream",
     "text": [
      "[[0 1 2]\n",
      " [3 4 5]]\n"
     ]
    }
   ],
   "source": [
    "import numpy as np\n",
    "array = np.arange(6)  # Typo: should be np.arange(6)\n",
    "reshaped = array.reshape(2, 3)\n",
    "print(reshaped)"
   ]
  },
  {
   "cell_type": "code",
   "execution_count": 616,
   "id": "20714481-a62e-46d8-9b87-d8131d9f2a92",
   "metadata": {},
   "outputs": [
    {
     "data": {
      "text/plain": [
       "array([ 1,  2,  3,  4,  5,  6,  7,  8,  9, 10])"
      ]
     },
     "execution_count": 616,
     "metadata": {},
     "output_type": "execute_result"
    }
   ],
   "source": [
    "a=np.arange(1,11)\n",
    "a"
   ]
  },
  {
   "cell_type": "code",
   "execution_count": 618,
   "id": "392dabc3-f324-41cb-b5c3-67b1351b1d52",
   "metadata": {},
   "outputs": [
    {
     "data": {
      "text/plain": [
       "10"
      ]
     },
     "execution_count": 618,
     "metadata": {},
     "output_type": "execute_result"
    }
   ],
   "source": [
    "a.size"
   ]
  },
  {
   "cell_type": "code",
   "execution_count": 620,
   "id": "2c2d3414-182f-405e-9491-83b778fcf0a8",
   "metadata": {},
   "outputs": [
    {
     "data": {
      "text/plain": [
       "array([[ 1,  2],\n",
       "       [ 3,  4],\n",
       "       [ 5,  6],\n",
       "       [ 7,  8],\n",
       "       [ 9, 10]])"
      ]
     },
     "execution_count": 620,
     "metadata": {},
     "output_type": "execute_result"
    }
   ],
   "source": [
    "a.reshape(5,2)"
   ]
  },
  {
   "cell_type": "code",
   "execution_count": 139,
   "id": "f19468e6-4264-4ff1-8193-060f9f1d805d",
   "metadata": {},
   "outputs": [
    {
     "data": {
      "text/plain": [
       "array([[[ 1],\n",
       "        [ 2]],\n",
       "\n",
       "       [[ 3],\n",
       "        [ 4]],\n",
       "\n",
       "       [[ 5],\n",
       "        [ 6]],\n",
       "\n",
       "       [[ 7],\n",
       "        [ 8]],\n",
       "\n",
       "       [[ 9],\n",
       "        [10]]])"
      ]
     },
     "execution_count": 139,
     "metadata": {},
     "output_type": "execute_result"
    }
   ],
   "source": [
    "a.reshape(5,2,1)"
   ]
  },
  {
   "cell_type": "markdown",
   "id": "aca2e064-ac8e-4ec2-b0af-d8d27d8bf6e8",
   "metadata": {},
   "source": [
    "## flatten and ravel"
   ]
  },
  {
   "cell_type": "code",
   "execution_count": 143,
   "id": "03f26ca4-22c3-4f23-9d77-417bc142f40c",
   "metadata": {},
   "outputs": [
    {
     "data": {
      "text/plain": [
       "<function ndarray.reshape>"
      ]
     },
     "execution_count": 143,
     "metadata": {},
     "output_type": "execute_result"
    }
   ],
   "source": [
    "b=a.reshape\n",
    "b"
   ]
  },
  {
   "cell_type": "code",
   "execution_count": 145,
   "id": "8eb93c21-ec98-45e0-a17f-0e55459d1ce2",
   "metadata": {},
   "outputs": [
    {
     "data": {
      "text/plain": [
       "array([[[ 1],\n",
       "        [ 2]],\n",
       "\n",
       "       [[ 3],\n",
       "        [ 4]],\n",
       "\n",
       "       [[ 5],\n",
       "        [ 6]],\n",
       "\n",
       "       [[ 7],\n",
       "        [ 8]],\n",
       "\n",
       "       [[ 9],\n",
       "        [10]]])"
      ]
     },
     "execution_count": 145,
     "metadata": {},
     "output_type": "execute_result"
    }
   ],
   "source": [
    "b=a.reshape(5,2,1)\n",
    "b"
   ]
  },
  {
   "cell_type": "code",
   "execution_count": 155,
   "id": "dc667cf8-b117-492c-83da-c30ef299f29d",
   "metadata": {},
   "outputs": [
    {
     "data": {
      "text/plain": [
       "<function ndarray.flatten>"
      ]
     },
     "execution_count": 155,
     "metadata": {},
     "output_type": "execute_result"
    }
   ],
   "source": [
    "flattened = b.flatten\n",
    "flattened"
   ]
  },
  {
   "cell_type": "code",
   "execution_count": 153,
   "id": "5139195d-e7c8-4889-ae40-ee20e6ef5363",
   "metadata": {},
   "outputs": [
    {
     "data": {
      "text/plain": [
       "array([ 1,  2,  3,  4,  5,  6,  7,  8,  9, 10])"
      ]
     },
     "execution_count": 153,
     "metadata": {},
     "output_type": "execute_result"
    }
   ],
   "source": [
    "flattened = b.flatten()\n",
    "flattened"
   ]
  },
  {
   "cell_type": "code",
   "execution_count": 157,
   "id": "bccfe9fd-241b-4556-9e0a-6ee1f26b415e",
   "metadata": {},
   "outputs": [
    {
     "data": {
      "text/plain": [
       "array([ 1,  2,  3,  4,  5,  6,  7,  8,  9, 10])"
      ]
     },
     "execution_count": 157,
     "metadata": {},
     "output_type": "execute_result"
    }
   ],
   "source": [
    "ravelled = b.ravel()\n",
    "ravelled"
   ]
  },
  {
   "cell_type": "code",
   "execution_count": 576,
   "id": "dd7c6e40-33a0-4e33-900a-445d9df3834e",
   "metadata": {},
   "outputs": [
    {
     "name": "stdout",
     "output_type": "stream",
     "text": [
      "354\n"
     ]
    }
   ],
   "source": [
    "flattened= 354\n",
    "print(flattened)"
   ]
  },
  {
   "cell_type": "code",
   "execution_count": 578,
   "id": "71da97d0-5625-44c7-b60a-dc109e6a1f32",
   "metadata": {},
   "outputs": [
    {
     "name": "stdout",
     "output_type": "stream",
     "text": [
      "36\n"
     ]
    }
   ],
   "source": [
    "flattened=36\n",
    "print(flattened)"
   ]
  },
  {
   "cell_type": "code",
   "execution_count": 170,
   "id": "07a40a58-7f57-4714-9174-cbfc5063774d",
   "metadata": {},
   "outputs": [
    {
     "name": "stdout",
     "output_type": "stream",
     "text": [
      "[1, 2, 354]\n"
     ]
    }
   ],
   "source": [
    "flattened = [1, 2, 3]  # Correctly initialized as a list\n",
    "flattened[2] = 354\n",
    "print(flattened)"
   ]
  },
  {
   "cell_type": "code",
   "execution_count": 172,
   "id": "31b6b99b-785e-413f-ab78-d736ed90c28a",
   "metadata": {},
   "outputs": [
    {
     "data": {
      "text/plain": [
       "array([ 1,  2, 30,  4,  5,  6,  7,  8,  9, 10])"
      ]
     },
     "execution_count": 172,
     "metadata": {},
     "output_type": "execute_result"
    }
   ],
   "source": [
    "ravelled[2] = 30\n",
    "ravelled"
   ]
  },
  {
   "cell_type": "code",
   "execution_count": 174,
   "id": "3c565fc5-3593-40ac-91d5-6c50050799ef",
   "metadata": {},
   "outputs": [
    {
     "data": {
      "text/plain": [
       "array([[[ 1],\n",
       "        [ 2]],\n",
       "\n",
       "       [[30],\n",
       "        [ 4]],\n",
       "\n",
       "       [[ 5],\n",
       "        [ 6]],\n",
       "\n",
       "       [[ 7],\n",
       "        [ 8]],\n",
       "\n",
       "       [[ 9],\n",
       "        [10]]])"
      ]
     },
     "execution_count": 174,
     "metadata": {},
     "output_type": "execute_result"
    }
   ],
   "source": [
    "b"
   ]
  },
  {
   "cell_type": "code",
   "execution_count": 176,
   "id": "9df361c9-1413-42cb-b1ad-df45bf8f4edf",
   "metadata": {},
   "outputs": [
    {
     "data": {
      "text/plain": [
       "array([ 1,  2, 30,  4,  5,  6,  7,  8,  9, 10])"
      ]
     },
     "execution_count": 176,
     "metadata": {},
     "output_type": "execute_result"
    }
   ],
   "source": [
    "a"
   ]
  },
  {
   "cell_type": "markdown",
   "id": "4db9ad61-9270-44eb-93cf-5b68c0cb082e",
   "metadata": {},
   "source": [
    "## slice"
   ]
  },
  {
   "cell_type": "code",
   "execution_count": 178,
   "id": "6d1c79b8-6eb2-4746-b960-cda5f146d589",
   "metadata": {},
   "outputs": [
    {
     "data": {
      "text/plain": [
       "array([6, 7, 8, 9])"
      ]
     },
     "execution_count": 178,
     "metadata": {},
     "output_type": "execute_result"
    }
   ],
   "source": [
    "a_slice=a[5:9]\n",
    "a_slice\n"
   ]
  },
  {
   "cell_type": "code",
   "execution_count": 180,
   "id": "9bc9f7c9-2aca-4e3d-a423-599f06771dbc",
   "metadata": {},
   "outputs": [
    {
     "data": {
      "text/plain": [
       "array([ 6, 16,  8,  9])"
      ]
     },
     "execution_count": 180,
     "metadata": {},
     "output_type": "execute_result"
    }
   ],
   "source": [
    "a_slice[1]=16\n",
    "a_slice\n"
   ]
  },
  {
   "cell_type": "code",
   "execution_count": 182,
   "id": "46d389d1-83ea-4a42-8cb3-c1fb430642d4",
   "metadata": {},
   "outputs": [
    {
     "data": {
      "text/plain": [
       "array([ 1,  2, 30,  4,  5,  6, 16,  8,  9, 10])"
      ]
     },
     "execution_count": 182,
     "metadata": {},
     "output_type": "execute_result"
    }
   ],
   "source": [
    "a"
   ]
  },
  {
   "cell_type": "code",
   "execution_count": 184,
   "id": "325c689d-ea90-457f-8fb3-720a230d8cc9",
   "metadata": {},
   "outputs": [
    {
     "data": {
      "text/plain": [
       "array([[[ 1],\n",
       "        [ 2]],\n",
       "\n",
       "       [[30],\n",
       "        [ 4]],\n",
       "\n",
       "       [[ 5],\n",
       "        [ 6]],\n",
       "\n",
       "       [[16],\n",
       "        [ 8]],\n",
       "\n",
       "       [[ 9],\n",
       "        [10]]])"
      ]
     },
     "execution_count": 184,
     "metadata": {},
     "output_type": "execute_result"
    }
   ],
   "source": [
    "b"
   ]
  },
  {
   "cell_type": "code",
   "execution_count": 186,
   "id": "d25f0741-0f61-4de9-9616-1db3e8c13bcc",
   "metadata": {},
   "outputs": [
    {
     "data": {
      "text/plain": [
       "(array([ 1,  2, 30,  4,  5,  6, 16,  8,  9, 10]),\n",
       " array([[[ 1],\n",
       "         [ 2]],\n",
       " \n",
       "        [[30],\n",
       "         [ 4]],\n",
       " \n",
       "        [[ 5],\n",
       "         [ 6]],\n",
       " \n",
       "        [[16],\n",
       "         [ 8]],\n",
       " \n",
       "        [[ 9],\n",
       "         [10]]]))"
      ]
     },
     "execution_count": 186,
     "metadata": {},
     "output_type": "execute_result"
    }
   ],
   "source": [
    "a,b"
   ]
  },
  {
   "cell_type": "code",
   "execution_count": 188,
   "id": "5b90b817-0c1e-49a4-935b-166ae9c8a12e",
   "metadata": {},
   "outputs": [
    {
     "data": {
      "text/plain": [
       "array([30,  4,  5,  6])"
      ]
     },
     "execution_count": 188,
     "metadata": {},
     "output_type": "execute_result"
    }
   ],
   "source": [
    "a_slice =np.copy(a[2:6])\n",
    "a_slice"
   ]
  },
  {
   "cell_type": "code",
   "execution_count": null,
   "id": "2cf72a90-535a-4b66-a257-10d205ca5133",
   "metadata": {},
   "outputs": [],
   "source": []
  },
  {
   "cell_type": "code",
   "execution_count": 322,
   "id": "a1eaf0c6-16dd-4f87-90f4-49c7487e97cf",
   "metadata": {},
   "outputs": [
    {
     "data": {
      "text/plain": [
       "array([[[ 1],\n",
       "        [ 2]],\n",
       "\n",
       "       [[30],\n",
       "        [18]],\n",
       "\n",
       "       [[ 5],\n",
       "        [ 6]],\n",
       "\n",
       "       [[16],\n",
       "        [ 8]]])"
      ]
     },
     "execution_count": 322,
     "metadata": {},
     "output_type": "execute_result"
    }
   ],
   "source": [
    "a_slice = np.copy(b[0:4])\n",
    "a_slice"
   ]
  },
  {
   "cell_type": "code",
   "execution_count": 330,
   "id": "9137ca6b-4e3d-46ce-a9a1-f89329ab02a9",
   "metadata": {},
   "outputs": [
    {
     "data": {
      "text/plain": [
       "array([[[ 1],\n",
       "        [ 2]],\n",
       "\n",
       "       [[30],\n",
       "        [18]],\n",
       "\n",
       "       [[ 5],\n",
       "        [ 6]],\n",
       "\n",
       "       [[16],\n",
       "        [ 8]]])"
      ]
     },
     "execution_count": 330,
     "metadata": {},
     "output_type": "execute_result"
    }
   ],
   "source": [
    "bslice=b[0:4]\n",
    "bslice"
   ]
  },
  {
   "cell_type": "code",
   "execution_count": 332,
   "id": "693c977c-3944-4bfe-b555-617869bd65b4",
   "metadata": {},
   "outputs": [
    {
     "data": {
      "text/plain": [
       "array([[[  1],\n",
       "        [  2]],\n",
       "\n",
       "       [[150],\n",
       "        [150]],\n",
       "\n",
       "       [[  5],\n",
       "        [  6]],\n",
       "\n",
       "       [[ 16],\n",
       "        [  8]]])"
      ]
     },
     "execution_count": 332,
     "metadata": {},
     "output_type": "execute_result"
    }
   ],
   "source": [
    "bslice[1]=150\n",
    "bslice"
   ]
  },
  {
   "cell_type": "code",
   "execution_count": 334,
   "id": "d6f99749-d92d-42b9-a54f-ba34561f2313",
   "metadata": {},
   "outputs": [
    {
     "data": {
      "text/plain": [
       "array([[[  1],\n",
       "        [  2]],\n",
       "\n",
       "       [[150],\n",
       "        [150]],\n",
       "\n",
       "       [[  5],\n",
       "        [  6]],\n",
       "\n",
       "       [[ 16],\n",
       "        [  8]],\n",
       "\n",
       "       [[  9],\n",
       "        [ 10]]])"
      ]
     },
     "execution_count": 334,
     "metadata": {},
     "output_type": "execute_result"
    }
   ],
   "source": [
    "b"
   ]
  },
  {
   "cell_type": "code",
   "execution_count": 324,
   "id": "6a8d365b-e49c-45f4-af2d-149258011aab",
   "metadata": {},
   "outputs": [
    {
     "data": {
      "text/plain": [
       "array([[[  1],\n",
       "        [  2]],\n",
       "\n",
       "       [[100],\n",
       "        [100]],\n",
       "\n",
       "       [[  5],\n",
       "        [  6]],\n",
       "\n",
       "       [[ 16],\n",
       "        [  8]]])"
      ]
     },
     "execution_count": 324,
     "metadata": {},
     "output_type": "execute_result"
    }
   ],
   "source": [
    "a_slice[1] = 100\n",
    "a_slice"
   ]
  },
  {
   "cell_type": "code",
   "execution_count": 328,
   "id": "46b7298d-2143-4da7-89b9-6a456c932aef",
   "metadata": {},
   "outputs": [
    {
     "data": {
      "text/plain": [
       "array([[[ 1],\n",
       "        [ 2]],\n",
       "\n",
       "       [[30],\n",
       "        [18]],\n",
       "\n",
       "       [[ 5],\n",
       "        [ 6]],\n",
       "\n",
       "       [[16],\n",
       "        [ 8]],\n",
       "\n",
       "       [[ 9],\n",
       "        [10]]])"
      ]
     },
     "execution_count": 328,
     "metadata": {},
     "output_type": "execute_result"
    }
   ],
   "source": [
    "b"
   ]
  },
  {
   "cell_type": "code",
   "execution_count": 199,
   "id": "de5a559c-cdf9-4bf7-83cd-f208bba6c1db",
   "metadata": {},
   "outputs": [
    {
     "data": {
      "text/plain": [
       "array([ 1,  2, 30,  4,  5,  6, 16,  8,  9, 10])"
      ]
     },
     "execution_count": 199,
     "metadata": {},
     "output_type": "execute_result"
    }
   ],
   "source": [
    "a.view()"
   ]
  },
  {
   "cell_type": "code",
   "execution_count": 201,
   "id": "f4e561c6-828d-4ed6-9438-d8841550d358",
   "metadata": {},
   "outputs": [
    {
     "data": {
      "text/plain": [
       "array([[[ 1],\n",
       "        [ 2]],\n",
       "\n",
       "       [[30],\n",
       "        [ 4]],\n",
       "\n",
       "       [[ 5],\n",
       "        [ 6]],\n",
       "\n",
       "       [[16],\n",
       "        [ 8]],\n",
       "\n",
       "       [[ 9],\n",
       "        [10]]])"
      ]
     },
     "execution_count": 201,
     "metadata": {},
     "output_type": "execute_result"
    }
   ],
   "source": [
    "b.view()"
   ]
  },
  {
   "cell_type": "code",
   "execution_count": 207,
   "id": "2091360c-6c86-413c-9df9-56f8fd1440a7",
   "metadata": {},
   "outputs": [
    {
     "name": "stdout",
     "output_type": "stream",
     "text": [
      "[ 1  2 30 18  5  6 16  8  9 10]\n",
      "[ 1  2 30 18  5  6 16  8  9 10]\n"
     ]
    }
   ],
   "source": [
    "a_view = a.view()\n",
    "a_view[3] = 18\n",
    "print(a_view)\n",
    "print(a)"
   ]
  },
  {
   "cell_type": "markdown",
   "id": "7dd2d29c-3b83-4e8e-8ec5-3abc9e8d154a",
   "metadata": {},
   "source": [
    "### ITERATION THROUGH NUMPY ARRAYS "
   ]
  },
  {
   "cell_type": "markdown",
   "id": "0f3d2b5f-84b5-4847-96bb-009ba6584cae",
   "metadata": {},
   "source": [
    "## 1 for loop\n",
    "## 2 nditor"
   ]
  },
  {
   "cell_type": "code",
   "execution_count": 215,
   "id": "2c6a9d41-e284-432b-be50-2262f2256f5e",
   "metadata": {},
   "outputs": [
    {
     "data": {
      "text/plain": [
       "[1, 2, 3, 4, 5, 6, 7, 8, 9, 10]"
      ]
     },
     "execution_count": 215,
     "metadata": {},
     "output_type": "execute_result"
    }
   ],
   "source": [
    "a=[1,2,3,4,5,6,7,8,9,10]\n",
    "a\n"
   ]
  },
  {
   "cell_type": "code",
   "execution_count": 222,
   "id": "f91f3302-e6d4-4505-aa7c-f8851110b479",
   "metadata": {},
   "outputs": [
    {
     "name": "stdout",
     "output_type": "stream",
     "text": [
      "0 1 2 3 4 5 6 7 8 9 "
     ]
    }
   ],
   "source": [
    "for i in range (len (a)):\n",
    "    print(i,end=\" \")\n"
   ]
  },
  {
   "cell_type": "code",
   "execution_count": 582,
   "id": "97b76f58-7874-4498-a65a-5cc85becaf5a",
   "metadata": {},
   "outputs": [
    {
     "name": "stdout",
     "output_type": "stream",
     "text": [
      "[5]\n"
     ]
    }
   ],
   "source": [
    "asd =np.reshape(5,1)\n",
    "print(asd)"
   ]
  },
  {
   "cell_type": "code",
   "execution_count": 282,
   "id": "096bf1d3-a1fa-4f96-8075-4e3202c626d6",
   "metadata": {},
   "outputs": [
    {
     "name": "stdout",
     "output_type": "stream",
     "text": [
      "[5]\n"
     ]
    }
   ],
   "source": [
    "import numpy as np \n",
    "asd = np.reshape(5, (1,))  \n",
    "print(asd)"
   ]
  },
  {
   "cell_type": "code",
   "execution_count": 292,
   "id": "7bf4369c-fd65-4eeb-91b1-d9bb1836222d",
   "metadata": {},
   "outputs": [
    {
     "data": {
      "text/plain": [
       "array([[[ 1,  2,  3],\n",
       "        [ 4,  5,  6],\n",
       "        [ 7,  8,  9]],\n",
       "\n",
       "       [[10, 11, 12],\n",
       "        [13, 14, 15],\n",
       "        [16, 17, 18]],\n",
       "\n",
       "       [[19, 20, 21],\n",
       "        [22, 23, 24],\n",
       "        [25, 26, 27]]])"
      ]
     },
     "execution_count": 292,
     "metadata": {},
     "output_type": "execute_result"
    }
   ],
   "source": [
    "asd=np.arange(1,28).reshape(3,3,3)\n",
    "asd"
   ]
  },
  {
   "cell_type": "code",
   "execution_count": 296,
   "id": "d32eda4d-690d-4da7-90f5-445fc5f140de",
   "metadata": {},
   "outputs": [
    {
     "name": "stdout",
     "output_type": "stream",
     "text": [
      "1 2 3 4 5 6 7 8 9 10 11 12 13 14 15 16 17 18 19 20 21 22 23 24 25 26 27 "
     ]
    }
   ],
   "source": [
    "for i in asd:\n",
    "    for j in i:\n",
    "        for k in j:\n",
    "            print(k,end=' ')"
   ]
  },
  {
   "cell_type": "code",
   "execution_count": 622,
   "id": "94b5a1b5-1da4-43e7-bac3-948dd00e5ca9",
   "metadata": {},
   "outputs": [
    {
     "name": "stdout",
     "output_type": "stream",
     "text": [
      "5 "
     ]
    }
   ],
   "source": [
    "asd = np.array([[5]])  \n",
    "for i in asd:\n",
    "    for j in i:  \n",
    "        print(j, end=' ')  "
   ]
  },
  {
   "cell_type": "markdown",
   "id": "eb824e6f-e1d2-4efa-8464-0e29477e40e1",
   "metadata": {},
   "source": [
    "# nditer for array iteration"
   ]
  },
  {
   "cell_type": "code",
   "execution_count": 248,
   "id": "bfadbd2d-e9a9-4305-a4b6-4263ba082eab",
   "metadata": {},
   "outputs": [
    {
     "name": "stdout",
     "output_type": "stream",
     "text": [
      "[[1 2 3]\n",
      " [4 5 6]]\n"
     ]
    }
   ],
   "source": [
    "c= np.array([[1,2,3],\n",
    "          [4,5,6]])\n",
    "print(c)"
   ]
  },
  {
   "cell_type": "code",
   "execution_count": 246,
   "id": "ae2c8c0c-9541-41fd-972a-41c8d7a8f324",
   "metadata": {},
   "outputs": [
    {
     "name": "stdout",
     "output_type": "stream",
     "text": [
      "[[1 2 3]\n",
      " [4 5 6]]\n"
     ]
    }
   ],
   "source": [
    "c = np.array([[1, 2, 3],  \n",
    "              [4, 5, 6]])\n",
    "print(c)  "
   ]
  },
  {
   "cell_type": "code",
   "execution_count": 256,
   "id": "bb66220c-eb15-4a5a-9fc1-6766693448d7",
   "metadata": {},
   "outputs": [
    {
     "name": "stdout",
     "output_type": "stream",
     "text": [
      "1 2 3 4 5 6 "
     ]
    }
   ],
   "source": [
    "for i in np.nditer(c,order = \"c\"):\n",
    "    print(i,end = \" \")"
   ]
  },
  {
   "cell_type": "code",
   "execution_count": 258,
   "id": "263ececd-a324-43c1-80ed-a203ec8e1f48",
   "metadata": {},
   "outputs": [
    {
     "name": "stdout",
     "output_type": "stream",
     "text": [
      "1 4 2 5 3 6 "
     ]
    }
   ],
   "source": [
    "for i in np.nditer(c,order=\"f\"):\n",
    "    print(i,end = \" \")"
   ]
  },
  {
   "cell_type": "code",
   "execution_count": 626,
   "id": "92defc6b-5b81-4b67-9e8d-fecb39dc6fbe",
   "metadata": {},
   "outputs": [
    {
     "name": "stdout",
     "output_type": "stream",
     "text": [
      "[[  1   4   9]\n",
      " [ 16  25  36]\n",
      " [ 49  64  81]\n",
      " [100 121 144]]\n"
     ]
    }
   ],
   "source": [
    "for i in np.nditer(c,op_flags=['readwrite']):\n",
    "    i[...]= i*i\n",
    "print(c)    "
   ]
  },
  {
   "cell_type": "code",
   "execution_count": 268,
   "id": "dd0629b6-a03f-4c42-a4c0-0ff60def1898",
   "metadata": {},
   "outputs": [
    {
     "name": "stdout",
     "output_type": "stream",
     "text": [
      "14\n"
     ]
    }
   ],
   "source": [
    "for i in np.nditer(c):\n",
    "    i=i+8\n",
    "print()    \n",
    "    \n"
   ]
  },
  {
   "cell_type": "code",
   "execution_count": 302,
   "id": "4bc6b2b5-faa3-48e6-a9ee-23999fe0fb66",
   "metadata": {},
   "outputs": [
    {
     "name": "stdout",
     "output_type": "stream",
     "text": [
      "1\n",
      "4\n",
      "9\n",
      "16\n",
      "25\n",
      "36\n"
     ]
    }
   ],
   "source": [
    "for i in np.nditer(c):\n",
    "    i = i*i\n",
    "    print(i)     "
   ]
  },
  {
   "cell_type": "code",
   "execution_count": 350,
   "id": "f6c45340-3fe4-4df5-89be-713a519a5ef6",
   "metadata": {},
   "outputs": [
    {
     "name": "stdout",
     "output_type": "stream",
     "text": [
      "[[101 104 109]\n",
      " [116 125 136]]\n"
     ]
    }
   ],
   "source": [
    "for i in np.nditer(c,op_flags=['readwrite']):\n",
    "    i[...]=i+100\n",
    "print(c)    \n",
    "    "
   ]
  },
  {
   "cell_type": "markdown",
   "id": "acf0997a-c6cd-4c5b-b74a-ee6361c0b048",
   "metadata": {},
   "source": [
    "# iteration through multiple arrays\n"
   ]
  },
  {
   "cell_type": "code",
   "execution_count": 358,
   "id": "1a3ea062-a6af-4c98-8714-c10b7ecfb0d1",
   "metadata": {},
   "outputs": [
    {
     "name": "stdout",
     "output_type": "stream",
     "text": [
      "[[ 1  2]\n",
      " [ 3  4]\n",
      " [ 5  6]\n",
      " [ 7  8]\n",
      " [ 9 10]]\n",
      "[[1 2]]\n"
     ]
    }
   ],
   "source": [
    "import numpy as np\n",
    "x = np.arange(1,11).reshape(5,2)\n",
    "y = np.array([1,2]).reshape(1,2)\n",
    "print(x)\n",
    "print(y)             \n"
   ]
  },
  {
   "cell_type": "code",
   "execution_count": 360,
   "id": "114f9b9f-ecaf-42d9-997d-51d69c994e34",
   "metadata": {},
   "outputs": [
    {
     "data": {
      "text/plain": [
       "array([[ 1,  2],\n",
       "       [ 3,  4],\n",
       "       [ 5,  6],\n",
       "       [ 7,  8],\n",
       "       [ 9, 10]])"
      ]
     },
     "execution_count": 360,
     "metadata": {},
     "output_type": "execute_result"
    }
   ],
   "source": [
    "x"
   ]
  },
  {
   "cell_type": "code",
   "execution_count": 364,
   "id": "bdd7ba59-6a60-4026-8e81-1eaa179a1138",
   "metadata": {},
   "outputs": [
    {
     "name": "stdout",
     "output_type": "stream",
     "text": [
      "1 1\n",
      "2 2\n",
      "3 1\n",
      "4 2\n",
      "5 1\n",
      "6 2\n",
      "7 1\n",
      "8 2\n",
      "9 1\n",
      "10 2\n"
     ]
    }
   ],
   "source": [
    "for i,j in np.nditer([x,y]):\n",
    "    print(i,j)\n"
   ]
  },
  {
   "cell_type": "code",
   "execution_count": 368,
   "id": "7ca38308-b656-45c7-a3f9-3552c6542433",
   "metadata": {},
   "outputs": [
    {
     "data": {
      "text/plain": [
       "array([1.        , 1.05263158, 1.10526316, 1.15789474, 1.21052632,\n",
       "       1.26315789, 1.31578947, 1.36842105, 1.42105263, 1.47368421,\n",
       "       1.52631579, 1.57894737, 1.63157895, 1.68421053, 1.73684211,\n",
       "       1.78947368, 1.84210526, 1.89473684, 1.94736842, 2.        ])"
      ]
     },
     "execution_count": 368,
     "metadata": {},
     "output_type": "execute_result"
    }
   ],
   "source": [
    "np.linspace(1,2,20)"
   ]
  },
  {
   "cell_type": "code",
   "execution_count": 448,
   "id": "293ef943-2fa1-487f-9bea-9addef359748",
   "metadata": {},
   "outputs": [
    {
     "data": {
      "text/plain": [
       "array([[1., 0., 0.],\n",
       "       [0., 1., 0.],\n",
       "       [0., 0., 1.]])"
      ]
     },
     "execution_count": 448,
     "metadata": {},
     "output_type": "execute_result"
    }
   ],
   "source": [
    "np.eye(3,k=0)"
   ]
  },
  {
   "cell_type": "code",
   "execution_count": 388,
   "id": "78e848c2-453c-4a56-8c30-d6471f021c2a",
   "metadata": {},
   "outputs": [
    {
     "data": {
      "text/plain": [
       "array([[0., 0., 0., 0., 0.],\n",
       "       [1., 0., 0., 0., 0.],\n",
       "       [0., 1., 0., 0., 0.],\n",
       "       [0., 0., 1., 0., 0.],\n",
       "       [0., 0., 0., 1., 0.]])"
      ]
     },
     "execution_count": 388,
     "metadata": {},
     "output_type": "execute_result"
    }
   ],
   "source": [
    "np.eye(5,k=-1)"
   ]
  },
  {
   "cell_type": "code",
   "execution_count": 390,
   "id": "2d675361-057f-49c9-aa4a-db54943d0f08",
   "metadata": {},
   "outputs": [
    {
     "data": {
      "text/plain": [
       "array([[1., 0., 0., 0.],\n",
       "       [0., 1., 0., 0.],\n",
       "       [0., 0., 1., 0.],\n",
       "       [0., 0., 0., 1.]])"
      ]
     },
     "execution_count": 390,
     "metadata": {},
     "output_type": "execute_result"
    }
   ],
   "source": [
    "np.eye(4,k=0)"
   ]
  },
  {
   "cell_type": "code",
   "execution_count": 396,
   "id": "e523d1ad-2950-43e4-9630-5f7d044e3ed1",
   "metadata": {},
   "outputs": [
    {
     "data": {
      "text/plain": [
       "36"
      ]
     },
     "execution_count": 396,
     "metadata": {},
     "output_type": "execute_result"
    }
   ],
   "source": [
    "np.random.randint(10,50)"
   ]
  },
  {
   "cell_type": "code",
   "execution_count": 400,
   "id": "7fe54f21-fc65-49ef-9c61-2d573f64c824",
   "metadata": {},
   "outputs": [
    {
     "data": {
      "text/plain": [
       "array([[[20, 18, 98, 43, 43],\n",
       "        [27, 43, 69, 94, 97],\n",
       "        [82, 83, 16, 45, 97],\n",
       "        [13, 23, 24, 39, 63],\n",
       "        [92, 79, 75, 90, 16]],\n",
       "\n",
       "       [[59, 93, 47, 33, 29],\n",
       "        [81, 22, 29, 77, 72],\n",
       "        [10, 69, 28, 21, 69],\n",
       "        [84, 70, 45, 28, 40],\n",
       "        [39, 10, 18, 80, 57]],\n",
       "\n",
       "       [[27, 72, 39, 90, 64],\n",
       "        [47, 67, 60, 73, 19],\n",
       "        [69, 24, 56, 79, 73],\n",
       "        [38, 54, 71, 76, 46],\n",
       "        [52, 24, 41, 14, 10]],\n",
       "\n",
       "       [[30, 43, 65, 29, 32],\n",
       "        [98, 39, 75, 57, 59],\n",
       "        [38, 26, 48, 92, 65],\n",
       "        [50, 71, 14, 17, 11],\n",
       "        [85, 94, 70, 46, 52]],\n",
       "\n",
       "       [[56, 80, 75, 95, 26],\n",
       "        [79, 74, 87, 95, 29],\n",
       "        [70, 52, 16, 23, 19],\n",
       "        [84, 24, 33, 19, 17],\n",
       "        [10, 92, 93, 49, 63]]])"
      ]
     },
     "execution_count": 400,
     "metadata": {},
     "output_type": "execute_result"
    }
   ],
   "source": [
    "np.random.randint(10,100,(5,5,5))"
   ]
  },
  {
   "cell_type": "code",
   "execution_count": 404,
   "id": "c7f30cbf-9082-45d9-b527-ccb3ccb278fd",
   "metadata": {},
   "outputs": [
    {
     "data": {
      "text/plain": [
       "array([[[27, 41, 25],\n",
       "        [42, 13, 19],\n",
       "        [36, 24, 17]],\n",
       "\n",
       "       [[24, 31, 20],\n",
       "        [26, 13, 30],\n",
       "        [43, 25, 34]],\n",
       "\n",
       "       [[21, 13, 24],\n",
       "        [32, 19, 19],\n",
       "        [30, 34, 31]],\n",
       "\n",
       "       [[33, 39, 43],\n",
       "        [26, 44, 21],\n",
       "        [24, 20, 10]],\n",
       "\n",
       "       [[22, 27, 25],\n",
       "        [16, 47, 35],\n",
       "        [42, 48, 30]],\n",
       "\n",
       "       [[12, 47, 36],\n",
       "        [19, 35, 24],\n",
       "        [29, 42, 26]],\n",
       "\n",
       "       [[39, 19, 10],\n",
       "        [28, 27, 30],\n",
       "        [22, 34, 33]],\n",
       "\n",
       "       [[38, 25, 38],\n",
       "        [30, 37, 43],\n",
       "        [41, 19, 13]]])"
      ]
     },
     "execution_count": 404,
     "metadata": {},
     "output_type": "execute_result"
    }
   ],
   "source": [
    "np.random.randint(10,50,(8,3,3))"
   ]
  },
  {
   "cell_type": "code",
   "execution_count": 410,
   "id": "6b11b829-63b4-4763-a8f5-7a350b975ee7",
   "metadata": {},
   "outputs": [
    {
     "name": "stdout",
     "output_type": "stream",
     "text": [
      "[[11 22 33]\n",
      " [44 55 66]]\n"
     ]
    }
   ],
   "source": [
    "x = np.array([[1, 2, 3],\n",
    "              [4, 5, 6]])\n",
    "\n",
    "y = np.array([[10, 20, 30],\n",
    "              [40, 50, 60]])\n",
    "\n",
    "for i,j in np.nditer([x,y],op_flags=['readwrite']):\n",
    "    i[...]=i+j\n",
    "print(x)"
   ]
  },
  {
   "cell_type": "code",
   "execution_count": 414,
   "id": "d2b12261-84c1-4bda-82f2-fbab20d1fb34",
   "metadata": {},
   "outputs": [
    {
     "name": "stdout",
     "output_type": "stream",
     "text": [
      "[[-3444  -300 -4198]\n",
      " [ -489  4978  2669]]\n"
     ]
    }
   ],
   "source": [
    "x = np.array([[12,45,334],\n",
    "              [54,5654,3434]])\n",
    "y = np.array([[3456,345,4532],\n",
    "              [543,676,765]])\n",
    "for i,j in np.nditer([x,y],op_flags = ['readwrite']):\n",
    "    i[...]=i-j\n",
    "print(x)     \n",
    "    "
   ]
  },
  {
   "cell_type": "markdown",
   "id": "8fe0fd05-9a4a-4766-b91c-df41cb2fa58e",
   "metadata": {},
   "source": [
    "# broadcasting in numpy arrays\n"
   ]
  },
  {
   "cell_type": "markdown",
   "id": "5e0fb4c5-da39-4b2d-91dd-4fc15dbdf9d1",
   "metadata": {},
   "source": [
    "### rules for broadcasting\n",
    "#### size of each dimension should be same otherwise each size of the dimension should be one"
   ]
  },
  {
   "cell_type": "code",
   "execution_count": 416,
   "id": "a979ac82-d370-4bea-97c8-3349f89a03f7",
   "metadata": {},
   "outputs": [
    {
     "data": {
      "text/plain": [
       "array([101, 143, 112])"
      ]
     },
     "execution_count": 416,
     "metadata": {},
     "output_type": "execute_result"
    }
   ],
   "source": [
    "a = np.array([12,54,23])\n",
    "b = np.array([89])\n",
    "a + b"
   ]
  },
  {
   "cell_type": "code",
   "execution_count": 422,
   "id": "ea271fb6-cf0e-4730-a435-5995f50eb45b",
   "metadata": {},
   "outputs": [
    {
     "data": {
      "text/plain": [
       "array([  2,  22, -19,  31])"
      ]
     },
     "execution_count": 422,
     "metadata": {},
     "output_type": "execute_result"
    }
   ],
   "source": [
    "c = np.array([54,32,53,23])\n",
    "d = np.array([56,54,34,54])\n",
    "d-c"
   ]
  },
  {
   "cell_type": "code",
   "execution_count": 424,
   "id": "92cb6dbb-0580-4994-94fb-6ef7d047afdc",
   "metadata": {},
   "outputs": [
    {
     "data": {
      "text/plain": [
       "array([ 3752, 42606,  3420])"
      ]
     },
     "execution_count": 424,
     "metadata": {},
     "output_type": "execute_result"
    }
   ],
   "source": [
    "e = np.array([67,789,45])\n",
    "f = np.array([56,54,76])\n",
    "e*f"
   ]
  },
  {
   "cell_type": "code",
   "execution_count": 426,
   "id": "0d56e886-1f4a-46ea-90e4-eabecc8611da",
   "metadata": {},
   "outputs": [
    {
     "data": {
      "text/plain": [
       "array([7.69606389, 0.64780376, 1.92934184, 0.23744431])"
      ]
     },
     "execution_count": 426,
     "metadata": {},
     "output_type": "execute_result"
    }
   ],
   "source": [
    "g = np.array([67456,5678,8765,2345])\n",
    "h = np.array([8765,8765,4543,9876])\n",
    "g/h"
   ]
  },
  {
   "cell_type": "code",
   "execution_count": 430,
   "id": "0254756d-9383-4d4d-bd9f-a776cfd56cd9",
   "metadata": {},
   "outputs": [
    {
     "data": {
      "text/plain": [
       "array([[ 2, 22],\n",
       "       [ 3, 31]])"
      ]
     },
     "execution_count": 430,
     "metadata": {},
     "output_type": "execute_result"
    }
   ],
   "source": [
    "c = np.array([[54,32],[53,23]])\n",
    "d = np.array([56,54])\n",
    "d-c"
   ]
  },
  {
   "cell_type": "code",
   "execution_count": 440,
   "id": "c00ab2be-9dfb-4295-be88-ed01df14ae1e",
   "metadata": {},
   "outputs": [
    {
     "data": {
      "text/plain": [
       "array([[110,  89, 108,  75],\n",
       "       [112,  88,  88,  75],\n",
       "       [112, 108, 108,  75],\n",
       "       [132, 119, 121, 108]])"
      ]
     },
     "execution_count": 440,
     "metadata": {},
     "output_type": "execute_result"
    }
   ],
   "source": [
    "z = np.array([[32,35,54,34],[34,34,34,34],[34,54,54,34],[54,65,67,67]])\n",
    "y = np.array([78,54,54,41])\n",
    "z+y"
   ]
  },
  {
   "cell_type": "code",
   "execution_count": 442,
   "id": "d4d175c8-62b4-46e3-bb33-ae2a527d80bf",
   "metadata": {},
   "outputs": [
    {
     "data": {
      "text/plain": [
       "array([[1],\n",
       "       [2],\n",
       "       [3]])"
      ]
     },
     "execution_count": 442,
     "metadata": {},
     "output_type": "execute_result"
    }
   ],
   "source": [
    "q=np.array([[1],[2],[3]])\n",
    "q"
   ]
  },
  {
   "cell_type": "code",
   "execution_count": 444,
   "id": "01d8350a-1cde-4c80-81e3-c2f92e92fa2b",
   "metadata": {},
   "outputs": [
    {
     "data": {
      "text/plain": [
       "array([1, 2, 3])"
      ]
     },
     "execution_count": 444,
     "metadata": {},
     "output_type": "execute_result"
    }
   ],
   "source": [
    "w=np.array([1,2,3])\n",
    "w"
   ]
  },
  {
   "cell_type": "code",
   "execution_count": 446,
   "id": "928908f9-2419-439e-97c0-6353648cb211",
   "metadata": {},
   "outputs": [
    {
     "name": "stdout",
     "output_type": "stream",
     "text": [
      "32 78\n",
      "35 54\n",
      "54 54\n",
      "34 41\n",
      "34 78\n",
      "34 54\n",
      "34 54\n",
      "34 41\n",
      "34 78\n",
      "54 54\n",
      "54 54\n",
      "34 41\n",
      "54 78\n",
      "65 54\n",
      "67 54\n",
      "67 41\n"
     ]
    }
   ],
   "source": [
    "for i,j in np.nditer([z,y]):\n",
    "    print(i,j)\n"
   ]
  },
  {
   "cell_type": "markdown",
   "id": "9b0d6c65-43a4-449b-9406-82a893eaebfa",
   "metadata": {},
   "source": [
    "# joining numpy arrays"
   ]
  },
  {
   "cell_type": "markdown",
   "id": "3d6bb8f4-3e5f-4a88-acde-7cbe0631e72a",
   "metadata": {},
   "source": [
    "# 1D"
   ]
  },
  {
   "cell_type": "code",
   "execution_count": 586,
   "id": "4a594fc4-ca1a-4b14-b27b-c160a36125c3",
   "metadata": {},
   "outputs": [
    {
     "data": {
      "text/plain": [
       "array([0, 1, 2, 3, 4])"
      ]
     },
     "execution_count": 586,
     "metadata": {},
     "output_type": "execute_result"
    }
   ],
   "source": [
    "a = np.arange(5)\n",
    "a"
   ]
  },
  {
   "cell_type": "code",
   "execution_count": 588,
   "id": "aaec66c6-2a7e-4573-acc4-a8d91bc6952f",
   "metadata": {},
   "outputs": [
    {
     "data": {
      "text/plain": [
       "array([ 7,  8,  9, 10, 11, 12, 13, 14, 15, 16, 17, 18, 19, 20, 21, 22])"
      ]
     },
     "execution_count": 588,
     "metadata": {},
     "output_type": "execute_result"
    }
   ],
   "source": [
    "b= np.arange(7 , 23)\n",
    "b"
   ]
  },
  {
   "cell_type": "code",
   "execution_count": 456,
   "id": "3c2b08a7-a247-40a2-ac18-3fb7cad5de2a",
   "metadata": {},
   "outputs": [
    {
     "data": {
      "text/plain": [
       "array([ 0,  1,  2,  3,  4,  7,  8,  9, 10, 11, 12, 13, 14, 15, 16, 17, 18,\n",
       "       19, 20, 21, 22])"
      ]
     },
     "execution_count": 456,
     "metadata": {},
     "output_type": "execute_result"
    }
   ],
   "source": [
    "np.concatenate((a,b))"
   ]
  },
  {
   "cell_type": "code",
   "execution_count": 458,
   "id": "1a84c1d1-a0f2-48c8-97b2-dfa9979e391b",
   "metadata": {},
   "outputs": [
    {
     "data": {
      "text/plain": [
       "array([ 7,  8,  9, 10, 11, 12, 13, 14, 15, 16, 17, 18, 19, 20, 21, 22,  0,\n",
       "        1,  2,  3,  4])"
      ]
     },
     "execution_count": 458,
     "metadata": {},
     "output_type": "execute_result"
    }
   ],
   "source": [
    "np.concatenate((b,a))"
   ]
  },
  {
   "cell_type": "code",
   "execution_count": 494,
   "id": "fb0c963f-ac6f-4c28-9a0c-8ae6d1d9a724",
   "metadata": {},
   "outputs": [
    {
     "data": {
      "text/plain": [
       "array([[1, 2],\n",
       "       [3, 4]])"
      ]
     },
     "execution_count": 494,
     "metadata": {},
     "output_type": "execute_result"
    }
   ],
   "source": [
    "e = np.arange(1,5).reshape(2,2)\n",
    "e\n"
   ]
  },
  {
   "cell_type": "code",
   "execution_count": 496,
   "id": "09d9fce0-398f-4ab9-9a6f-ac2830081888",
   "metadata": {},
   "outputs": [
    {
     "data": {
      "text/plain": [
       "array([[1, 2, 3],\n",
       "       [4, 5, 6],\n",
       "       [7, 8, 9]])"
      ]
     },
     "execution_count": 496,
     "metadata": {},
     "output_type": "execute_result"
    }
   ],
   "source": [
    "f = np.arange(1,10).reshape(3,3)\n",
    "f"
   ]
  },
  {
   "cell_type": "code",
   "execution_count": 498,
   "id": "1f3ff17e-87ef-4720-aa80-ef436d3a3449",
   "metadata": {},
   "outputs": [
    {
     "data": {
      "text/plain": [
       "array([[ 1,  2,  3],\n",
       "       [ 4,  5,  6],\n",
       "       [ 7,  8,  9],\n",
       "       [10, 11, 12]])"
      ]
     },
     "execution_count": 498,
     "metadata": {},
     "output_type": "execute_result"
    }
   ],
   "source": [
    "g = np.arange(1,13).reshape(4,3)\n",
    "g"
   ]
  },
  {
   "cell_type": "code",
   "execution_count": 514,
   "id": "3d72271b-bd19-41c5-8d2c-effc269a4c86",
   "metadata": {},
   "outputs": [
    {
     "data": {
      "text/plain": [
       "(array([0, 1, 2, 3, 4]),\n",
       " array([ 7,  8,  9, 10, 11, 12, 13, 14, 15, 16, 17, 18, 19, 20, 21, 22]))"
      ]
     },
     "execution_count": 514,
     "metadata": {},
     "output_type": "execute_result"
    }
   ],
   "source": [
    "a,b"
   ]
  },
  {
   "cell_type": "code",
   "execution_count": 516,
   "id": "dad666f7-39b1-4c00-9257-4dc9129e5f43",
   "metadata": {},
   "outputs": [
    {
     "data": {
      "text/plain": [
       "array([ 0,  1,  2,  3,  4,  7,  8,  9, 10, 11, 12, 13, 14, 15, 16, 17, 18,\n",
       "       19, 20, 21, 22])"
      ]
     },
     "execution_count": 516,
     "metadata": {},
     "output_type": "execute_result"
    }
   ],
   "source": [
    "np.concatenate((a,b),axis = 0)"
   ]
  },
  {
   "cell_type": "code",
   "execution_count": 584,
   "id": "2da78b67-9098-448b-b0cb-b2f117fdc94e",
   "metadata": {},
   "outputs": [
    {
     "data": {
      "text/plain": [
       "(array([1, 2, 3, 4, 5]), array([ 6,  7,  8,  9, 10]))"
      ]
     },
     "execution_count": 584,
     "metadata": {},
     "output_type": "execute_result"
    }
   ],
   "source": [
    "a=np.array([1,2,3,4,5])\n",
    "b=np.array([6,7,8,9,10])\n",
    "a,b"
   ]
  },
  {
   "cell_type": "code",
   "execution_count": 568,
   "id": "7b0a7554-65f4-48d4-8741-70a4547f057d",
   "metadata": {},
   "outputs": [
    {
     "ename": "ValueError",
     "evalue": "all input arrays must have the same shape",
     "output_type": "error",
     "traceback": [
      "\u001b[1;31m---------------------------------------------------------------------------\u001b[0m",
      "\u001b[1;31mValueError\u001b[0m                                Traceback (most recent call last)",
      "Cell \u001b[1;32mIn[568], line 1\u001b[0m\n\u001b[1;32m----> 1\u001b[0m np\u001b[38;5;241m.\u001b[39mstack((a,b),axis\u001b[38;5;241m=\u001b[39m\u001b[38;5;241m1\u001b[39m)\n",
      "File \u001b[1;32m~\\anaconda3\\Lib\\site-packages\\numpy\\core\\shape_base.py:449\u001b[0m, in \u001b[0;36mstack\u001b[1;34m(arrays, axis, out, dtype, casting)\u001b[0m\n\u001b[0;32m    447\u001b[0m shapes \u001b[38;5;241m=\u001b[39m {arr\u001b[38;5;241m.\u001b[39mshape \u001b[38;5;28;01mfor\u001b[39;00m arr \u001b[38;5;129;01min\u001b[39;00m arrays}\n\u001b[0;32m    448\u001b[0m \u001b[38;5;28;01mif\u001b[39;00m \u001b[38;5;28mlen\u001b[39m(shapes) \u001b[38;5;241m!=\u001b[39m \u001b[38;5;241m1\u001b[39m:\n\u001b[1;32m--> 449\u001b[0m     \u001b[38;5;28;01mraise\u001b[39;00m \u001b[38;5;167;01mValueError\u001b[39;00m(\u001b[38;5;124m'\u001b[39m\u001b[38;5;124mall input arrays must have the same shape\u001b[39m\u001b[38;5;124m'\u001b[39m)\n\u001b[0;32m    451\u001b[0m result_ndim \u001b[38;5;241m=\u001b[39m arrays[\u001b[38;5;241m0\u001b[39m]\u001b[38;5;241m.\u001b[39mndim \u001b[38;5;241m+\u001b[39m \u001b[38;5;241m1\u001b[39m\n\u001b[0;32m    452\u001b[0m axis \u001b[38;5;241m=\u001b[39m normalize_axis_index(axis, result_ndim)\n",
      "\u001b[1;31mValueError\u001b[0m: all input arrays must have the same shape"
     ]
    }
   ],
   "source": [
    "np.stack((a,b),axis=1)"
   ]
  },
  {
   "cell_type": "code",
   "execution_count": 524,
   "id": "634ab7e7-b19f-4d31-8a56-7cdd6de4f5cf",
   "metadata": {},
   "outputs": [
    {
     "data": {
      "text/plain": [
       "array([[ 1,  2,  3,  4,  5],\n",
       "       [ 6,  7,  8,  9, 10]])"
      ]
     },
     "execution_count": 524,
     "metadata": {},
     "output_type": "execute_result"
    }
   ],
   "source": [
    "np.vstack((a,b))"
   ]
  },
  {
   "cell_type": "code",
   "execution_count": 526,
   "id": "72721b95-25c8-45f6-83db-18f5ff591f41",
   "metadata": {},
   "outputs": [
    {
     "data": {
      "text/plain": [
       "(array([[32, 35, 54, 34],\n",
       "        [34, 34, 34, 34],\n",
       "        [34, 54, 54, 34],\n",
       "        [54, 65, 67, 67]]),\n",
       " array([[ 1,  2,  3,  4],\n",
       "        [ 5,  6,  7,  8],\n",
       "        [ 9, 10, 11, 12],\n",
       "        [13, 14, 15, 16]]))"
      ]
     },
     "execution_count": 526,
     "metadata": {},
     "output_type": "execute_result"
    }
   ],
   "source": [
    "z = np.array([[32,35,54,34],[34,34,34,34],[34,54,54,34],[54,65,67,67]])\n",
    "w=np.arange(1,17).reshape(4,4)\n",
    "z,w\n"
   ]
  }
 ],
 "metadata": {
  "kernelspec": {
   "display_name": "Python 3 (ipykernel)",
   "language": "python",
   "name": "python3"
  },
  "language_info": {
   "codemirror_mode": {
    "name": "ipython",
    "version": 3
   },
   "file_extension": ".py",
   "mimetype": "text/x-python",
   "name": "python",
   "nbconvert_exporter": "python",
   "pygments_lexer": "ipython3",
   "version": "3.12.4"
  }
 },
 "nbformat": 4,
 "nbformat_minor": 5
}
