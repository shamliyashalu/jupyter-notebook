{
 "cells": [
  {
   "cell_type": "code",
   "execution_count": 43,
   "id": "7a4521b6-2bf6-425f-b7fa-0477bdfbdaec",
   "metadata": {},
   "outputs": [],
   "source": [
    "import numpy as pd\n",
    "import pandas as pd\n",
    "from matplotlib import pyplot as plt\n",
    "import seaborn as sns"
   ]
  },
  {
   "cell_type": "code",
   "execution_count": 7,
   "id": "c2d3f059-5851-4874-b2de-df71720928aa",
   "metadata": {},
   "outputs": [
    {
     "data": {
      "text/plain": [
       "['anagrams',\n",
       " 'anscombe',\n",
       " 'attention',\n",
       " 'brain_networks',\n",
       " 'car_crashes',\n",
       " 'diamonds',\n",
       " 'dots',\n",
       " 'dowjones',\n",
       " 'exercise',\n",
       " 'flights',\n",
       " 'fmri',\n",
       " 'geyser',\n",
       " 'glue',\n",
       " 'healthexp',\n",
       " 'iris',\n",
       " 'mpg',\n",
       " 'penguins',\n",
       " 'planets',\n",
       " 'seaice',\n",
       " 'taxis',\n",
       " 'tips',\n",
       " 'titanic']"
      ]
     },
     "execution_count": 7,
     "metadata": {},
     "output_type": "execute_result"
    }
   ],
   "source": [
    "sns.get_dataset_names()"
   ]
  },
  {
   "cell_type": "code",
   "execution_count": 13,
   "id": "e28c8035-2075-403a-ba38-63475e6f12b3",
   "metadata": {},
   "outputs": [],
   "source": [
    "tips = sns.load_dataset(\"tips\")\n",
    "iris = sns.load_dataset(\"iris\")"
   ]
  },
  {
   "cell_type": "code",
   "execution_count": 15,
   "id": "12244708-64e5-4229-9ea6-4cefba96ce12",
   "metadata": {},
   "outputs": [
    {
     "data": {
      "image/png": "[encoded data removed]",
      "text/plain": [
       "<Figure size 640x480 with 1 Axes>"
      ]
     },
     "metadata": {},
     "output_type": "display_data"
    }
   ],
   "source": [
    "sns.pointplot(x=\"sex\",y=\"total_bill\",data=tips)\n",
    "plt.show()"
   ]
  },
  {
   "cell_type": "code",
   "execution_count": null,
   "id": "4f0ef2aa-c578-4ea6-ab6a-f16772b299f3",
   "metadata": {},
   "outputs": [],
   "source": []
  },
  {
   "cell_type": "code",
   "execution_count": 23,
   "id": "81d3a016-4c4b-4759-9df9-dbffc9ec889b",
   "metadata": {},
   "outputs": [
    {
     "name": "stdout",
     "output_type": "stream",
     "text": [
      "Requirement already satisfied: jedi in c:\\users\\shaml\\anaconda3\\lib\\site-packages (0.18.1)\n",
      "Requirement already satisfied: parso<0.9.0,>=0.8.0 in c:\\users\\shaml\\anaconda3\\lib\\site-packages (from jedi) (0.8.3)\n"
     ]
    }
   ],
   "source": [
    "!pip install jedi"
   ]
  },
  {
   "cell_type": "code",
   "execution_count": null,
   "id": "62aaa50b-06ee-491a-b579-05e18a633fb7",
   "metadata": {},
   "outputs": [],
   "source": []
  },
  {
   "cell_type": "code",
   "execution_count": 63,
   "id": "2519788a-e358-45bf-bf9c-4ebc608fbfa9",
   "metadata": {},
   "outputs": [
    {
     "name": "stdout",
     "output_type": "stream",
     "text": [
      "    Name  Age  Grade  Score\n",
      "0  Alice   15     10   85.0\n",
      "1    Bob   14      9    NaN\n",
      "2  Carol   15     10   78.0\n",
      "3   Dave   14      9   55.0\n",
      "4  Alice   15     10   85.0\n",
      "5    Eve   14      9   45.0\n"
     ]
    }
   ],
   "source": [
    "df = pd.read_csv('C:\\\\Users\\\\shaml\\\\Downloads\\\\students.csv')\n",
    "df.head()\n",
    "print(df)\n",
    "\n"
   ]
  },
  {
   "cell_type": "code",
   "execution_count": 67,
   "id": "8b7720e0-6038-4e96-8cbc-b162a145f24e",
   "metadata": {},
   "outputs": [
    {
     "name": "stderr",
     "output_type": "stream",
     "text": [
      "C:\\Users\\shaml\\AppData\\Local\\Temp\\ipykernel_52168\\1338043012.py:2: FutureWarning: A value is trying to be set on a copy of a DataFrame or Series through chained assignment using an inplace method.\n",
      "The behavior will change in pandas 3.0. This inplace method will never work because the intermediate object on which we are setting values always behaves as a copy.\n",
      "\n",
      "For example, when doing 'df[col].method(value, inplace=True)', try using 'df.method({col: value}, inplace=True)' or df[col] = df[col].method(value) instead, to perform the operation inplace on the original object.\n",
      "\n",
      "\n",
      "  df_cleaned['Score'].fillna(df_cleaned['Score'].mean(), inplace=True)\n",
      "C:\\Users\\shaml\\AppData\\Local\\Temp\\ipykernel_52168\\1338043012.py:2: SettingWithCopyWarning: \n",
      "A value is trying to be set on a copy of a slice from a DataFrame\n",
      "\n",
      "See the caveats in the documentation: https://pandas.pydata.org/pandas-docs/stable/user_guide/indexing.html#returning-a-view-versus-a-copy\n",
      "  df_cleaned['Score'].fillna(df_cleaned['Score'].mean(), inplace=True)\n"
     ]
    },
    {
     "data": {
      "text/html": [
       "<div>\n",
       "<style scoped>\n",
       "    .dataframe tbody tr th:only-of-type {\n",
       "        vertical-align: middle;\n",
       "    }\n",
       "\n",
       "    .dataframe tbody tr th {\n",
       "        vertical-align: top;\n",
       "    }\n",
       "\n",
       "    .dataframe thead th {\n",
       "        text-align: right;\n",
       "    }\n",
       "</style>\n",
       "<table border=\"1\" class=\"dataframe\">\n",
       "  <thead>\n",
       "    <tr style=\"text-align: right;\">\n",
       "      <th></th>\n",
       "      <th>Name</th>\n",
       "      <th>Age</th>\n",
       "      <th>Grade</th>\n",
       "      <th>Score</th>\n",
       "    </tr>\n",
       "  </thead>\n",
       "  <tbody>\n",
       "    <tr>\n",
       "      <th>0</th>\n",
       "      <td>Alice</td>\n",
       "      <td>15</td>\n",
       "      <td>10</td>\n",
       "      <td>85.00</td>\n",
       "    </tr>\n",
       "    <tr>\n",
       "      <th>1</th>\n",
       "      <td>Bob</td>\n",
       "      <td>14</td>\n",
       "      <td>9</td>\n",
       "      <td>65.75</td>\n",
       "    </tr>\n",
       "    <tr>\n",
       "      <th>2</th>\n",
       "      <td>Carol</td>\n",
       "      <td>15</td>\n",
       "      <td>10</td>\n",
       "      <td>78.00</td>\n",
       "    </tr>\n",
       "    <tr>\n",
       "      <th>3</th>\n",
       "      <td>Dave</td>\n",
       "      <td>14</td>\n",
       "      <td>9</td>\n",
       "      <td>55.00</td>\n",
       "    </tr>\n",
       "    <tr>\n",
       "      <th>5</th>\n",
       "      <td>Eve</td>\n",
       "      <td>14</td>\n",
       "      <td>9</td>\n",
       "      <td>45.00</td>\n",
       "    </tr>\n",
       "  </tbody>\n",
       "</table>\n",
       "</div>"
      ],
      "text/plain": [
       "    Name  Age  Grade  Score\n",
       "0  Alice   15     10  85.00\n",
       "1    Bob   14      9  65.75\n",
       "2  Carol   15     10  78.00\n",
       "3   Dave   14      9  55.00\n",
       "5    Eve   14      9  45.00"
      ]
     },
     "execution_count": 67,
     "metadata": {},
     "output_type": "execute_result"
    }
   ],
   "source": [
    "df_cleaned = df.drop_duplicates()\n",
    "df_cleaned['Score'].fillna(df_cleaned['Score'].mean(), inplace=True)\n",
    "df_cleaned"
   ]
  },
  {
   "cell_type": "code",
   "execution_count": 71,
   "id": "28d64002-f8d1-47c8-aace-e9be92d00174",
   "metadata": {},
   "outputs": [
    {
     "name": "stdout",
     "output_type": "stream",
     "text": [
      "Mean Age: 14.4\n",
      "Mean Score: 65.75\n"
     ]
    }
   ],
   "source": [
    "mean_age = df_cleaned['Age'].mean()\n",
    "mean_score = df_cleaned['Score'].mean()\n",
    "print(\"Mean Age:\", mean_age)\n",
    "print(\"Mean Score:\", mean_score)"
   ]
  },
  {
   "cell_type": "code",
   "execution_count": 77,
   "id": "70fa8393-4fff-4c6e-9878-7af7cd1cddfb",
   "metadata": {},
   "outputs": [
    {
     "name": "stdout",
     "output_type": "stream",
     "text": [
      "Median Age: 14.0\n"
     ]
    }
   ],
   "source": [
    "median_age = df_cleaned['Age'].median()\n",
    "print(\"Median Age:\",median_age)"
   ]
  },
  {
   "cell_type": "code",
   "execution_count": 79,
   "id": "c09d0dba-fe68-4ff7-bd02-38b52f65bef2",
   "metadata": {},
   "outputs": [
    {
     "name": "stdout",
     "output_type": "stream",
     "text": [
      "mode age: 0    14\n",
      "Name: Age, dtype: int64\n"
     ]
    }
   ],
   "source": [
    "mode_age = df_cleaned['Age'].mode()\n",
    "print(\"mode age:\",mode_age)"
   ]
  },
  {
   "cell_type": "code",
   "execution_count": 81,
   "id": "6e6b2855-af60-4788-9127-c99c22df04d4",
   "metadata": {},
   "outputs": [
    {
     "name": "stdout",
     "output_type": "stream",
     "text": [
      "std: 0.5477225575051662\n"
     ]
    }
   ],
   "source": [
    "std_deviation = df_cleaned['Age'].std()\n",
    "print(\"std:\",std_deviation)"
   ]
  },
  {
   "cell_type": "code",
   "execution_count": 83,
   "id": "4c25cbf6-cbab-4f62-8a69-8498df66b332",
   "metadata": {},
   "outputs": [
    {
     "name": "stdout",
     "output_type": "stream",
     "text": [
      "variance age: 0.30000000000000004\n"
     ]
    }
   ],
   "source": [
    "var_age = df_cleaned['Age'].var()\n",
    "print(\"variance age:\",var_age)"
   ]
  },
  {
   "cell_type": "code",
   "execution_count": 85,
   "id": "cdec562f-31fc-4f0a-8d6e-4c8d875664d7",
   "metadata": {},
   "outputs": [
    {
     "name": "stdout",
     "output_type": "stream",
     "text": [
      "skewness age: 0.6085806194501813\n"
     ]
    }
   ],
   "source": [
    "skew_age = df_cleaned['Age'].skew()\n",
    "print(\"skewness age:\",skew_age)"
   ]
  },
  {
   "cell_type": "code",
   "execution_count": 91,
   "id": "5cdc49af-8162-45ab-8ec0-49a89277ac20",
   "metadata": {},
   "outputs": [
    {
     "name": "stdout",
     "output_type": "stream",
     "text": [
      "kurtosis age: -3.3333333333333393\n"
     ]
    }
   ],
   "source": [
    "mode_age = df_cleaned['Age'].kurtosis()\n",
    "print(\"kurtosis age:\",mode_age)"
   ]
  },
  {
   "cell_type": "code",
   "execution_count": 97,
   "id": "eb2059c8-b56e-4ffc-9585-e5852fdd53f2",
   "metadata": {},
   "outputs": [
    {
     "name": "stdout",
     "output_type": "stream",
     "text": [
      "summary statistics: count     5.000000\n",
      "mean     14.400000\n",
      "std       0.547723\n",
      "min      14.000000\n",
      "25%      14.000000\n",
      "50%      14.000000\n",
      "75%      15.000000\n",
      "max      15.000000\n",
      "Name: Age, dtype: float64\n"
     ]
    }
   ],
   "source": [
    "mode_age = df_cleaned['Age'].describe()\n",
    "print(\"summary statistics:\",mode_age)"
   ]
  },
  {
   "cell_type": "code",
   "execution_count": null,
   "id": "20e5aff7-95a5-43f5-83d7-7ddf29177898",
   "metadata": {},
   "outputs": [],
   "source": []
  },
  {
   "cell_type": "code",
   "execution_count": null,
   "id": "f45d0f34-56a5-4d70-af3e-fa4411fcfa96",
   "metadata": {},
   "outputs": [],
   "source": []
  },
  {
   "cell_type": "code",
   "execution_count": null,
   "id": "f35e00ae-b947-4eb3-ad74-5648b7312009",
   "metadata": {},
   "outputs": [],
   "source": []
  },
  {
   "cell_type": "code",
   "execution_count": null,
   "id": "6d2794d5-d227-4023-9043-707e630c36f4",
   "metadata": {},
   "outputs": [],
   "source": []
  },
  {
   "cell_type": "code",
   "execution_count": null,
   "id": "b089a865-3b6a-48c8-b834-040f9e40d2a8",
   "metadata": {},
   "outputs": [],
   "source": []
  },
  {
   "cell_type": "code",
   "execution_count": null,
   "id": "a0f1ede1-2957-44d7-a51b-c140a9f61fe5",
   "metadata": {},
   "outputs": [],
   "source": []
  },
  {
   "cell_type": "code",
   "execution_count": null,
   "id": "a4e7bd8f-a996-4337-8cdc-a99c6cddcca1",
   "metadata": {},
   "outputs": [],
   "source": []
  },
  {
   "cell_type": "code",
   "execution_count": null,
   "id": "759dedd6-d0f6-4b8e-9110-b3425c03373c",
   "metadata": {},
   "outputs": [],
   "source": []
  },
  {
   "cell_type": "code",
   "execution_count": null,
   "id": "d67110a1-9fda-4e69-8f82-8dde8e0f5880",
   "metadata": {},
   "outputs": [],
   "source": []
  },
  {
   "cell_type": "code",
   "execution_count": null,
   "id": "d0c4178a-0682-400f-92d8-223a5b680e1f",
   "metadata": {},
   "outputs": [],
   "source": []
  },
  {
   "cell_type": "code",
   "execution_count": null,
   "id": "c077ef04-3a93-4bba-a2a2-bdfa9bdc47cc",
   "metadata": {},
   "outputs": [],
   "source": []
  }
 ],
 "metadata": {
  "kernelspec": {
   "display_name": "Python 3 (ipykernel)",
   "language": "python",
   "name": "python3"
  },
  "language_info": {
   "codemirror_mode": {
    "name": "ipython",
    "version": 3
   },
   "file_extension": ".py",
   "mimetype": "text/x-python",
   "name": "python",
   "nbconvert_exporter": "python",
   "pygments_lexer": "ipython3",
   "version": "3.12.4"
  }
 },
 "nbformat": 4,
 "nbformat_minor": 5
}
