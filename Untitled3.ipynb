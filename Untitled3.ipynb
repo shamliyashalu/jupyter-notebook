{
 "cells": [
  {
   "cell_type": "markdown",
   "id": "33d886dd-d6f9-4e1b-91eb-d601e0cd9ac5",
   "metadata": {},
   "source": [
    "## Leap Year Checker: Write a Python program that checks if a given year is a leap year.\r\n"
   ]
  },
  {
   "cell_type": "code",
   "execution_count": 3,
   "id": "2d2cc593-551a-4058-93a5-1b2753efd9b1",
   "metadata": {},
   "outputs": [
    {
     "name": "stdin",
     "output_type": "stream",
     "text": [
      "enter a year:  2020\n"
     ]
    },
    {
     "name": "stdout",
     "output_type": "stream",
     "text": [
      "2020is a leap year.\n"
     ]
    }
   ],
   "source": [
    "def leap_year(year):\n",
    "    if (year % 4 == 0 and year % 100 != 0) or (year % 400 == 0):\n",
    "        return True\n",
    "    else:\n",
    "        return False\n",
    "year = int(input(\"enter a year: \"))\n",
    "if leap_year(year):\n",
    "    print(f\"{year}is a leap year.\")\n",
    "else:\n",
    "    print(f\"{year}is not a leap year.\")\n",
    "    \n",
    "    \n",
    "    \n",
    "    "
   ]
  },
  {
   "cell_type": "markdown",
   "id": "e3cccf72-8622-412f-8ce4-f13d4060fa1e",
   "metadata": {},
   "source": [
    "## Grade Calculator: Write a program that converts a score (0-100) into a corresponding letter grade (A, B, C, D, F).\r\n"
   ]
  },
  {
   "cell_type": "code",
   "execution_count": 46,
   "id": "e4c64613-4fcb-45d9-a872-b5858b0f3d02",
   "metadata": {},
   "outputs": [
    {
     "name": "stdin",
     "output_type": "stream",
     "text": [
      "enter the mark (0 - 100) 30\n"
     ]
    },
    {
     "name": "stdout",
     "output_type": "stream",
     "text": [
      "score: 30,grade:F\n"
     ]
    }
   ],
   "source": [
    "def calculate_grade():\n",
    "    score = int(input(\"enter the mark (0 - 100)\"))\n",
    "    if score < 0 or score > 100:\n",
    "        print(\"invalid score, enter the number between 0 and 100\")\n",
    "    else:\n",
    "        if score >= 90:\n",
    "            grade = \"A\"\n",
    "        elif score >= 80:\n",
    "            grade = \"B\"\n",
    "        elif score >= 70:\n",
    "            grade = \"C\"\n",
    "        elif score >= 60:\n",
    "            grade = \"D\"\n",
    "        else:\n",
    "            grade = \"F\"\n",
    "        print(f\"score: {score},grade:{grade}\")\n",
    "calculate_grade()\n"
   ]
  },
  {
   "cell_type": "markdown",
   "id": "1ad8670d-c095-4756-a725-ef28b63417cd",
   "metadata": {},
   "source": [
    "## Temperature Conversion: Write a Python program that converts a temperature from Fahrenheit to Celsius or vice versa, based on user input.\r\n"
   ]
  },
  {
   "cell_type": "code",
   "execution_count": 48,
   "id": "b13ccccb-4a3c-4442-b3ed-0b60f653bf51",
   "metadata": {},
   "outputs": [
    {
     "name": "stdout",
     "output_type": "stream",
     "text": [
      "Temperature Conversion\n",
      "1: Convert Fahrenheit to Celsius\n",
      "2: Convert Celsius to Fahrenheit\n"
     ]
    },
    {
     "name": "stdin",
     "output_type": "stream",
     "text": [
      "Choose an option (1 or 2):  1\n",
      "Enter temperature in Fahrenheit:  32\n"
     ]
    },
    {
     "name": "stdout",
     "output_type": "stream",
     "text": [
      "32.0°F is equal to 0.00°C.\n"
     ]
    }
   ],
   "source": [
    "def fahrenheit_to_celsius(fahrenheit):\n",
    "    return (fahrenheit - 32) * 5.0 / 9.0\n",
    "\n",
    "def celsius_to_fahrenheit(celsius):\n",
    "    return (celsius * 9.0 / 5.0) + 32\n",
    "\n",
    "def main():\n",
    "    print(\"Temperature Conversion\")\n",
    "    print(\"1: Convert Fahrenheit to Celsius\")\n",
    "    print(\"2: Convert Celsius to Fahrenheit\")\n",
    "    \n",
    "    choice = input(\"Choose an option (1 or 2): \")\n",
    "    \n",
    "    if choice == '1':\n",
    "        try:\n",
    "            fahrenheit = float(input(\"Enter temperature in Fahrenheit: \"))\n",
    "            celsius = fahrenheit_to_celsius(fahrenheit)\n",
    "            print(f\"{fahrenheit}°F is equal to {celsius:.2f}°C.\")\n",
    "        except ValueError:\n",
    "            print(\"Invalid input. Please enter a numeric value.\")\n",
    "    elif choice == '2':\n",
    "        try:\n",
    "            celsius = float(input(\"Enter temperature in Celsius: \"))\n",
    "            fahrenheit = celsius_to_fahrenheit(celsius)\n",
    "            print(f\"{celsius}°C is equal to {fahrenheit:.2f}°F.\")\n",
    "        except ValueError:\n",
    "            print(\"Invalid input. Please enter a numeric value.\")\n",
    "    \n",
    "    else:\n",
    "        print(\"Invalid choice. Please select either 1 or 2.\")\n",
    "\n",
    "if __name__ == \"__main__\":\n",
    "    main()"
   ]
  },
  {
   "cell_type": "markdown",
   "id": "b72fac7a-7002-48f3-b2ab-16a16315bb36",
   "metadata": {},
   "source": [
    "## Triangle Type Checker: Write a Python program that determines whether a triangle is equilateral, isosceles, or scalene based on its side lengths."
   ]
  },
  {
   "cell_type": "code",
   "execution_count": 60,
   "id": "4c1b1e24-deda-4f77-ab3c-d952de65da78",
   "metadata": {},
   "outputs": [
    {
     "name": "stdout",
     "output_type": "stream",
     "text": [
      "Triangle Type Checker\n"
     ]
    },
    {
     "name": "stdin",
     "output_type": "stream",
     "text": [
      "Enter length of side A:  45\n",
      "Enter length of side B:  67\n",
      "Enter length of side C:  67\n"
     ]
    },
    {
     "name": "stdout",
     "output_type": "stream",
     "text": [
      "The triangle is: Isosceles\n"
     ]
    }
   ],
   "source": [
    "def triangle_type(a, b, c):\n",
    "    if a <= 0 or b <= 0 or c <= 0:\n",
    "        return \"Not a triangle\"\n",
    "    \n",
    "    if a + b > c and a + c > b and b + c > a:\n",
    "        if a == b == c:\n",
    "            return \"Equilateral\"\n",
    "        elif a == b or b == c or a == c:\n",
    "            return \"Isosceles\"\n",
    "        else:\n",
    "            return \"Scalene\"\n",
    "    else:\n",
    "        return \"Not a triangle\"\n",
    "\n",
    "def main():\n",
    "    print(\"Triangle Type Checker\")\n",
    "    \n",
    "    try:\n",
    "        side_a = float(input(\"Enter length of side A: \"))\n",
    "        side_b = float(input(\"Enter length of side B: \"))\n",
    "        side_c = float(input(\"Enter length of side C: \"))\n",
    "        \n",
    "        result = triangle_type(side_a, side_b, side_c)\n",
    "        print(f\"The triangle is: {result}\")\n",
    "    except ValueError:\n",
    "        print(\"Invalid input. Please enter numeric values for the sides.\")\n",
    "\n",
    "if __name__ == \"__main__\":\n",
    "    main() \n",
    "    \n"
   ]
  },
  {
   "cell_type": "markdown",
   "id": "f7c7f631-0b63-44a3-b541-f14f451166e0",
   "metadata": {},
   "source": [
    "## Password Strength Checker: Write a Python program that evaluates the strength of a password based on its length and character composition. The program should categorize the password as \"Weak\", \"Moderate\", or \"Strong\".\r\n"
   ]
  },
  {
   "cell_type": "code",
   "execution_count": 68,
   "id": "d2d9fa8d-4008-4955-a17d-271590f4fc2b",
   "metadata": {},
   "outputs": [
    {
     "name": "stdin",
     "output_type": "stream",
     "text": [
      "Enter a password:  Shamliya393\n"
     ]
    },
    {
     "name": "stdout",
     "output_type": "stream",
     "text": [
      "Password strength: Moderate\n"
     ]
    }
   ],
   "source": [
    "def check_password_strength(password):\n",
    "    # Check password length\n",
    "    length = len(password)\n",
    "    \n",
    "    # Check for uppercase letters\n",
    "    has_uppercase = any(char.isupper() for char in password)\n",
    "    \n",
    "    # Check for lowercase letters\n",
    "    has_lowercase = any(char.islower() for char in password)\n",
    "    \n",
    "    # Check for digits\n",
    "    has_digit = any(char.isdigit() for char in password)\n",
    "    \n",
    "    # Check for special characters\n",
    "    special_chars = \"!@#$%^&*()_+{}[]|;:,.<>?/\"\n",
    "    has_special = any(char in special_chars for char in password)\n",
    "    \n",
    "    # Determine password strength\n",
    "    if length < 8:\n",
    "        strength = \"Weak\"\n",
    "    elif length >= 8 and (not has_uppercase or not has_lowercase or not has_digit or not has_special):\n",
    "        strength = \"Moderate\"\n",
    "    else:\n",
    "        strength = \"Strong\"\n",
    "    \n",
    "    return strength\n",
    "password = input(\"Enter a password: \")\n",
    "result = check_password_strength(password)\n",
    "print(f\"Password strength: {result}\")\n",
    "\n"
   ]
  },
  {
   "cell_type": "markdown",
   "id": "61b9e601-a618-4723-8b4a-704559b141ce",
   "metadata": {},
   "source": [
    "## Factorial Calculation: Write a Python program to calculate the factorial of a given number using a for loop.\r\n"
   ]
  },
  {
   "cell_type": "code",
   "execution_count": 70,
   "id": "0d089ab3-cd87-4974-b314-a5d80ad70c83",
   "metadata": {},
   "outputs": [
    {
     "name": "stdin",
     "output_type": "stream",
     "text": [
      "Enter a non-negative integer:  56\n"
     ]
    },
    {
     "name": "stdout",
     "output_type": "stream",
     "text": [
      "The factorial of 56 is: 710998587804863451854045647463724949736497978881168458687447040000000000000\n"
     ]
    }
   ],
   "source": [
    "def calculate_factorial(n):\n",
    "    # Initialize the result variable\n",
    "    factorial = 1\n",
    "    \n",
    "    # Check if the input is a non-negative integer\n",
    "    if n < 0:\n",
    "        return \"Factorial is not defined for negative numbers.\"\n",
    "    \n",
    "    # Calculate factorial using a for loop\n",
    "    for i in range(1, n + 1):\n",
    "        factorial *= i  # Multiply current value of factorial by i\n",
    "    \n",
    "    return factorial\n",
    "\n",
    "# Example usage\n",
    "try:\n",
    "    number = int(input(\"Enter a non-negative integer: \"))\n",
    "    result = calculate_factorial(number)\n",
    "    print(f\"The factorial of {number} is: {result}\")\n",
    "except ValueError:\n",
    "    print(\"Please enter a valid integer.\")"
   ]
  },
  {
   "cell_type": "markdown",
   "id": "f8c7fb9a-55e4-48fc-92e0-cbdef50032b1",
   "metadata": {},
   "source": [
    "## Multiplication Table: Write a Python program that prints the multiplication table for a given number up to 10.\r\n"
   ]
  },
  {
   "cell_type": "code",
   "execution_count": 72,
   "id": "a4058153-ebe5-424a-a549-880522c55e78",
   "metadata": {},
   "outputs": [
    {
     "name": "stdin",
     "output_type": "stream",
     "text": [
      "Enter a number:  45\n"
     ]
    },
    {
     "name": "stdout",
     "output_type": "stream",
     "text": [
      "45 x 1 = 45\n",
      "45 x 2 = 90\n",
      "45 x 3 = 135\n",
      "45 x 4 = 180\n",
      "45 x 5 = 225\n",
      "45 x 6 = 270\n",
      "45 x 7 = 315\n",
      "45 x 8 = 360\n",
      "45 x 9 = 405\n",
      "45 x 10 = 450\n"
     ]
    }
   ],
   "source": [
    "def print_multiplication_table(number):\n",
    "    for i in range(1, 11):\n",
    "        result = number * i\n",
    "        print(f\"{number} x {i} = {result}\")\n",
    "\n",
    "# Example usage\n",
    "try:\n",
    "    num = int(input(\"Enter a number: \"))\n",
    "    print_multiplication_table(num)\n",
    "except ValueError:\n",
    "    print(\"Please enter a valid integer.\")"
   ]
  },
  {
   "cell_type": "markdown",
   "id": "a35a3845-e4b9-4c14-92f9-62c3410de809",
   "metadata": {},
   "source": [
    "## Reversing a String: Write a Python program that takes a string as input and prints the reversed string using a for loop.\r\n"
   ]
  },
  {
   "cell_type": "code",
   "execution_count": 74,
   "id": "fa92cc30-c905-4fd8-b565-308882ea9af1",
   "metadata": {},
   "outputs": [
    {
     "name": "stdin",
     "output_type": "stream",
     "text": [
      "Enter a string:  34\n"
     ]
    },
    {
     "name": "stdout",
     "output_type": "stream",
     "text": [
      "Original string: 34\n",
      "Reversed string: 43\n"
     ]
    }
   ],
   "source": [
    "def reverse_string(input_string):\n",
    "    reversed_string = \"\"\n",
    "    \n",
    "    for char in input_string:\n",
    "        reversed_string = char + reversed_string\n",
    "    \n",
    "    return reversed_string\n",
    "\n",
    "# Example usage\n",
    "try:\n",
    "    user_input = input(\"Enter a string: \")\n",
    "    reversed_result = reverse_string(user_input)\n",
    "    print(f\"Original string: {user_input}\")\n",
    "    print(f\"Reversed string: {reversed_result}\")\n",
    "except ValueError:\n",
    "    print(\"Please enter a valid string.\")"
   ]
  },
  {
   "cell_type": "markdown",
   "id": "b15d5e74-2f4d-4e8b-b2f1-7c133095ffab",
   "metadata": {},
   "source": [
    "## Count Vowels in a String: Write a Python program that counts the number of vowels in a given string using a for loop\r\n"
   ]
  },
  {
   "cell_type": "code",
   "execution_count": 76,
   "id": "800dd799-4dcb-4d29-88d7-a35a5dade92f",
   "metadata": {},
   "outputs": [
    {
     "name": "stdin",
     "output_type": "stream",
     "text": [
      "Enter a string:  elaphent\n"
     ]
    },
    {
     "name": "stdout",
     "output_type": "stream",
     "text": [
      "The number of vowels in the string is: 3\n"
     ]
    }
   ],
   "source": [
    "def count_vowels(input_string):\n",
    "    # Define a set of vowels (both uppercase and lowercase)\n",
    "    vowels = \"aeiouAEIOU\"\n",
    "    count = 0\n",
    "    \n",
    "    # Iterate through each character in the input string\n",
    "    for char in input_string:\n",
    "        if char in vowels:\n",
    "            count += 1  # Increment count if the character is a vowel\n",
    "    \n",
    "    return count\n",
    "\n",
    "# Example usage\n",
    "user_input = input(\"Enter a string: \")\n",
    "vowel_count = count_vowels(user_input)\n",
    "print(f\"The number of vowels in the string is: {vowel_count}\")"
   ]
  },
  {
   "cell_type": "markdown",
   "id": "78141c40-fea2-4e92-8c71-806429834f80",
   "metadata": {},
   "source": [
    "## Pattern Printing: Write a Python program that prints a pattern of stars (*) in the following format for a given n:\r\n",
    "*\r\n",
    "* *\r\n",
    "* * *\r\n",
    "* * * *\r\n",
    "* * * * *\r\n",
    "\r\n"
   ]
  },
  {
   "cell_type": "code",
   "execution_count": 78,
   "id": "4b381aff-937a-4ea9-95fe-8ca703768625",
   "metadata": {},
   "outputs": [
    {
     "name": "stdin",
     "output_type": "stream",
     "text": [
      "Enter the number of rows:  5\n"
     ]
    },
    {
     "name": "stdout",
     "output_type": "stream",
     "text": [
      "* \n",
      "* * \n",
      "* * * \n",
      "* * * * \n",
      "* * * * * \n"
     ]
    }
   ],
   "source": [
    "def print_pattern(n):\n",
    "    for i in range(1, n + 1):\n",
    "        print(\"* \" * i)\n",
    "\n",
    "# Example usage\n",
    "try:\n",
    "    num_rows = int(input(\"Enter the number of rows: \"))\n",
    "    print_pattern(num_rows)\n",
    "except ValueError:\n",
    "    print(\"Please enter a valid integer.\")"
   ]
  },
  {
   "cell_type": "markdown",
   "id": "2e32ff2c-1a08-4503-a09c-7802872a63b7",
   "metadata": {},
   "source": [
    "## Consider the dictionary\r\n",
    "marks_dict = {\r\n",
    "    \"Mathematics\": 95,\r\n",
    "    \"English\": 88,\r\n",
    "    \"Science\": 92,\r\n",
    "    \"History\": 85,\r\n",
    "    \"Geography\": 90\r\n",
    "}\r\n",
    "Write a program to find total marks\r\n"
   ]
  },
  {
   "cell_type": "code",
   "execution_count": 80,
   "id": "902b2365-384b-494b-931c-a55b08dca293",
   "metadata": {},
   "outputs": [
    {
     "name": "stdout",
     "output_type": "stream",
     "text": [
      "Total marks: 450\n"
     ]
    }
   ],
   "source": [
    "marks_dict = {\n",
    "    \"Mathematics\": 95,\n",
    "    \"English\": 88,\n",
    "    \"Science\": 92,\n",
    "    \"History\": 85,\n",
    "    \"Geography\": 90\n",
    "}\n",
    "\n",
    "def calculate_total_marks(marks):\n",
    "    total = 0\n",
    "    for subject_marks in marks.values():\n",
    "        total += subject_marks\n",
    "    return total\n",
    "\n",
    "total_marks = calculate_total_marks(marks_dict)\n",
    "print(f\"Total marks: {total_marks}\")"
   ]
  }
 ],
 "metadata": {
  "kernelspec": {
   "display_name": "Python 3 (ipykernel)",
   "language": "python",
   "name": "python3"
  },
  "language_info": {
   "codemirror_mode": {
    "name": "ipython",
    "version": 3
   },
   "file_extension": ".py",
   "mimetype": "text/x-python",
   "name": "python",
   "nbconvert_exporter": "python",
   "pygments_lexer": "ipython3",
   "version": "3.12.4"
  }
 },
 "nbformat": 4,
 "nbformat_minor": 5
}
